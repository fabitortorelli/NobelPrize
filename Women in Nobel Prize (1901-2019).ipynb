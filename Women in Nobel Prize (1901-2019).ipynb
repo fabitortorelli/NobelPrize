{
 "cells": [
  {
   "cell_type": "markdown",
   "id": "30f38b2e-c46b-4a57-ab77-89ec553cad25",
   "metadata": {},
   "source": [
    "## Packages"
   ]
  },
  {
   "cell_type": "code",
   "execution_count": 1,
   "id": "0215432f-39d7-4dc3-b38c-3e050176a026",
   "metadata": {},
   "outputs": [],
   "source": [
    "import pandas as pd\n",
    "import numpy as np\n",
    "import matplotlib.pyplot as plt\n",
    "import seaborn as sns"
   ]
  },
  {
   "cell_type": "markdown",
   "id": "d7cd080e-7667-4b31-9615-adec3156afcb",
   "metadata": {},
   "source": [
    "## Dataset"
   ]
  },
  {
   "cell_type": "code",
   "execution_count": 2,
   "id": "d377ded0-aa2c-4441-af39-704a407d94e9",
   "metadata": {},
   "outputs": [
    {
     "data": {
      "text/html": [
       "<div>\n",
       "<style scoped>\n",
       "    .dataframe tbody tr th:only-of-type {\n",
       "        vertical-align: middle;\n",
       "    }\n",
       "\n",
       "    .dataframe tbody tr th {\n",
       "        vertical-align: top;\n",
       "    }\n",
       "\n",
       "    .dataframe thead th {\n",
       "        text-align: right;\n",
       "    }\n",
       "</style>\n",
       "<table border=\"1\" class=\"dataframe\">\n",
       "  <thead>\n",
       "    <tr style=\"text-align: right;\">\n",
       "      <th></th>\n",
       "      <th>Name</th>\n",
       "      <th>Year</th>\n",
       "      <th>Category</th>\n",
       "      <th>Countries</th>\n",
       "      <th>Gender</th>\n",
       "      <th>Description</th>\n",
       "      <th>Details</th>\n",
       "    </tr>\n",
       "  </thead>\n",
       "  <tbody>\n",
       "    <tr>\n",
       "      <th>0</th>\n",
       "      <td>Frédéric Passy</td>\n",
       "      <td>1901</td>\n",
       "      <td>Peace</td>\n",
       "      <td>France</td>\n",
       "      <td>Man</td>\n",
       "      <td>NaN</td>\n",
       "      <td>NaN</td>\n",
       "    </tr>\n",
       "    <tr>\n",
       "      <th>1</th>\n",
       "      <td>Sully Prudhomme</td>\n",
       "      <td>1901</td>\n",
       "      <td>Literature</td>\n",
       "      <td>France</td>\n",
       "      <td>Man</td>\n",
       "      <td>NaN</td>\n",
       "      <td>NaN</td>\n",
       "    </tr>\n",
       "    <tr>\n",
       "      <th>2</th>\n",
       "      <td>Emil Adolf von Behring</td>\n",
       "      <td>1901</td>\n",
       "      <td>Physiology or Medicine</td>\n",
       "      <td>Germany</td>\n",
       "      <td>Man</td>\n",
       "      <td>NaN</td>\n",
       "      <td>NaN</td>\n",
       "    </tr>\n",
       "    <tr>\n",
       "      <th>3</th>\n",
       "      <td>Wilhelm Röntgen</td>\n",
       "      <td>1901</td>\n",
       "      <td>Physics</td>\n",
       "      <td>Germany</td>\n",
       "      <td>Man</td>\n",
       "      <td>NaN</td>\n",
       "      <td>NaN</td>\n",
       "    </tr>\n",
       "    <tr>\n",
       "      <th>4</th>\n",
       "      <td>Jacobus Henricus van 't Hoff</td>\n",
       "      <td>1901</td>\n",
       "      <td>Chemistry</td>\n",
       "      <td>Netherlands</td>\n",
       "      <td>Man</td>\n",
       "      <td>NaN</td>\n",
       "      <td>NaN</td>\n",
       "    </tr>\n",
       "  </tbody>\n",
       "</table>\n",
       "</div>"
      ],
      "text/plain": [
       "                           Name  Year                Category    Countries  \\\n",
       "0                Frédéric Passy  1901                   Peace       France   \n",
       "1               Sully Prudhomme  1901              Literature       France   \n",
       "2        Emil Adolf von Behring  1901  Physiology or Medicine      Germany   \n",
       "3               Wilhelm Röntgen  1901                 Physics      Germany   \n",
       "4  Jacobus Henricus van 't Hoff  1901               Chemistry  Netherlands   \n",
       "\n",
       "  Gender Description Details  \n",
       "0    Man         NaN     NaN  \n",
       "1    Man         NaN     NaN  \n",
       "2    Man         NaN     NaN  \n",
       "3    Man         NaN     NaN  \n",
       "4    Man         NaN     NaN  "
      ]
     },
     "execution_count": 2,
     "metadata": {},
     "output_type": "execute_result"
    }
   ],
   "source": [
    "df1 = pd.read_csv(r'nobel_prize_awarded_1901_2019.csv')\n",
    "df1.head()"
   ]
  },
  {
   "cell_type": "code",
   "execution_count": 3,
   "id": "92301120-2caa-4bb8-a9dd-21326898e4e3",
   "metadata": {},
   "outputs": [
    {
     "data": {
      "text/plain": [
       "(948, 7)"
      ]
     },
     "execution_count": 3,
     "metadata": {},
     "output_type": "execute_result"
    }
   ],
   "source": [
    "df1.shape"
   ]
  },
  {
   "cell_type": "code",
   "execution_count": 4,
   "id": "1ecbd7d6-9533-4a4a-b755-13d08303f7e1",
   "metadata": {},
   "outputs": [
    {
     "name": "stdout",
     "output_type": "stream",
     "text": [
      "<class 'pandas.core.frame.DataFrame'>\n",
      "RangeIndex: 948 entries, 0 to 947\n",
      "Data columns (total 7 columns):\n",
      " #   Column       Non-Null Count  Dtype \n",
      "---  ------       --------------  ----- \n",
      " 0   Name         948 non-null    object\n",
      " 1   Year         948 non-null    int64 \n",
      " 2   Category     948 non-null    object\n",
      " 3   Countries    948 non-null    object\n",
      " 4   Gender       948 non-null    object\n",
      " 5   Description  54 non-null     object\n",
      " 6   Details      15 non-null     object\n",
      "dtypes: int64(1), object(6)\n",
      "memory usage: 52.0+ KB\n"
     ]
    }
   ],
   "source": [
    "df1.info()"
   ]
  },
  {
   "cell_type": "code",
   "execution_count": 5,
   "id": "fa9f2bc8-a622-469a-8482-a957c17fc288",
   "metadata": {},
   "outputs": [
    {
     "data": {
      "text/plain": [
       "Name             0\n",
       "Year             0\n",
       "Category         0\n",
       "Countries        0\n",
       "Gender           0\n",
       "Description    894\n",
       "Details        933\n",
       "dtype: int64"
      ]
     },
     "execution_count": 5,
     "metadata": {},
     "output_type": "execute_result"
    }
   ],
   "source": [
    "df1.isnull().sum()"
   ]
  },
  {
   "cell_type": "code",
   "execution_count": 6,
   "id": "15a15b1f-3b7e-41fb-9771-1992c29071dd",
   "metadata": {},
   "outputs": [
    {
     "data": {
      "text/plain": [
       "False    948\n",
       "Name: count, dtype: int64"
      ]
     },
     "execution_count": 6,
     "metadata": {},
     "output_type": "execute_result"
    }
   ],
   "source": [
    "(df1.duplicated()).value_counts()"
   ]
  },
  {
   "cell_type": "code",
   "execution_count": 7,
   "id": "d0eca7a3-28c9-4aa9-abce-d5ad04887df0",
   "metadata": {},
   "outputs": [
    {
     "data": {
      "text/plain": [
       "Name           941\n",
       "Year           116\n",
       "Category         6\n",
       "Countries      157\n",
       "Gender           3\n",
       "Description     50\n",
       "Details         13\n",
       "dtype: int64"
      ]
     },
     "execution_count": 7,
     "metadata": {},
     "output_type": "execute_result"
    }
   ],
   "source": [
    "df1.nunique()"
   ]
  },
  {
   "cell_type": "code",
   "execution_count": 8,
   "id": "86b6ab72-98fc-4550-8eff-d3d2f055391f",
   "metadata": {},
   "outputs": [
    {
     "data": {
      "text/plain": [
       "Name\n",
       "International Committee of the Red Cross    3\n",
       "John Bardeen                                2\n",
       "Frederick Sanger                            2\n",
       "Marie Skłodowska-Curie                      2\n",
       "Linus Pauling                               2\n",
       "                                           ..\n",
       "John Eccles                                 1\n",
       "J. Hans D. Jensen                           1\n",
       "Karl Ziegler                                1\n",
       "Giorgos Seferis                             1\n",
       "Wisława Szymborska                          1\n",
       "Name: count, Length: 941, dtype: int64"
      ]
     },
     "execution_count": 8,
     "metadata": {},
     "output_type": "execute_result"
    }
   ],
   "source": [
    "df1['Name'].value_counts()"
   ]
  },
  {
   "cell_type": "code",
   "execution_count": 9,
   "id": "3ad246a6-68de-4f16-bc91-6b0c14b7f1d3",
   "metadata": {},
   "outputs": [
    {
     "data": {
      "text/plain": [
       "count     948.000000\n",
       "mean     1971.118143\n",
       "std        33.565438\n",
       "min      1901.000000\n",
       "25%      1947.000000\n",
       "50%      1977.000000\n",
       "75%      2000.000000\n",
       "max      2019.000000\n",
       "Name: Year, dtype: float64"
      ]
     },
     "execution_count": 9,
     "metadata": {},
     "output_type": "execute_result"
    }
   ],
   "source": [
    "df1['Year'].describe()"
   ]
  },
  {
   "cell_type": "code",
   "execution_count": 10,
   "id": "7c161f3b-ce6b-468c-b8ff-5987be63cb62",
   "metadata": {},
   "outputs": [
    {
     "data": {
      "text/plain": [
       "Category\n",
       "Physiology or Medicine    219\n",
       "Physics                   213\n",
       "Chemistry                 184\n",
       "Peace                     134\n",
       "Literature                116\n",
       "Economics                  82\n",
       "Name: count, dtype: int64"
      ]
     },
     "execution_count": 10,
     "metadata": {},
     "output_type": "execute_result"
    }
   ],
   "source": [
    "df1['Category'].value_counts()"
   ]
  },
  {
   "cell_type": "code",
   "execution_count": 11,
   "id": "3ae556c2-6723-43a4-8dda-0535f7b24c5a",
   "metadata": {},
   "outputs": [
    {
     "data": {
      "text/plain": [
       "Countries\n",
       "United States                                   275\n",
       "United Kingdom                                   84\n",
       "Germany                                          72\n",
       "France                                           55\n",
       "Sweden                                           28\n",
       "                                               ... \n",
       "Israel, Poland, Russia and Soviet Union           1\n",
       "Belgium, Russia and Soviet Union                  1\n",
       "Bosnia and Herzegovina, Croatia, Switzerland      1\n",
       "France, Ireland                                   1\n",
       "Kenya                                             1\n",
       "Name: count, Length: 157, dtype: int64"
      ]
     },
     "execution_count": 11,
     "metadata": {},
     "output_type": "execute_result"
    }
   ],
   "source": [
    "df1['Countries'].value_counts()"
   ]
  },
  {
   "cell_type": "code",
   "execution_count": 12,
   "id": "8529c36e-b04e-4864-996d-5d69bc33eca2",
   "metadata": {},
   "outputs": [
    {
     "data": {
      "text/plain": [
       "Gender\n",
       "Man             866\n",
       "Woman            54\n",
       "Organization     28\n",
       "Name: count, dtype: int64"
      ]
     },
     "execution_count": 12,
     "metadata": {},
     "output_type": "execute_result"
    }
   ],
   "source": [
    "df1['Gender'].value_counts()"
   ]
  },
  {
   "cell_type": "code",
   "execution_count": 13,
   "id": "e36c20cb-c854-44ee-99fc-1a570e8f5471",
   "metadata": {},
   "outputs": [
    {
     "data": {
      "text/plain": [
       "Description\n",
       "\"For their non-violent struggle for the safety of women and for women's rights to full participation in peace-building work\"                                                             3\n",
       "\"Founder of the Northern Ireland Peace Movement (later renamed Community of Peace People)\"                                                                                               2\n",
       "\"For the discovery of how chromosomes are protected by telomeres and the enzyme telomerase\"                                                                                              2\n",
       "\"For studies of the structure and function of the ribosome\"                                                                                                                              1\n",
       "\"For their discoveries concerning nuclear shell structure\"                                                                                                                               1\n",
       "\"In recognition of the extraordinary services they have rendered by their joint researches on the radiation phenomena discovered by Professor Henri Becquerel\"                           1\n",
       "\"For her discovery of radium and polonium\"                                                                                                                                               1\n",
       "\"For their discoveries of cells that constitute a positioning system in the brain\"                                                                                                       1\n",
       "\"Leader of Missionaries of Charity, Calcutta.\"                                                                                                                                           1\n",
       "\"For their efforts to end the use of sexual violence as a weapon of war and armed conflict\"                                                                                              1\n",
       "\"Who through her magnificent epic writing has - in the words of Alfred Nobel - been of very great benefit to humanity\"                                                                   1\n",
       "\"For her outstanding lyrical and dramatic writing, which interprets Israel's destiny with touching strength\"                                                                             1\n",
       "“For a narrative imagination that with encyclopedic passion represents the crossing of boundaries as a form of life”                                                                     1\n",
       "\"For her rich and truly epic descriptions of peasant life in China and for her biographical masterpieces\"                                                                                1\n",
       "\"In recognition of her work for social justice and ethno-cultural reconciliation based on respect for the rights of indigenous peoples\"                                                  1\n",
       "\"For their discoveries of odorant receptors and the organization of the olfactory system\"                                                                                                1\n",
       "\"For their discoveries of growth factors\"                                                                                                                                                1\n",
       "\"For the development of radioimmunoassays of peptide hormones\"                                                                                                                           1\n",
       "\"In appreciation of the lofty idealism, vivid imagination and spiritual perception that characterize her writings\"                                                                       1\n",
       "\"For her efforts for democracy and human rights. She has focused especially on the struggle for the rights of women and children\"                                                        1\n",
       "\"Principally for her powerful descriptions of Northern life during the Middle Ages\"                                                                                                      1\n",
       "\"For her polyphonic writings, a monument to suffering and courage in our time\"                                                                                                           1\n",
       "\"Who in novels characterized by visionary force and poetic import, gives life to an essential aspect of American reality\"                                                                1\n",
       "\"For her discoveries concerning a novel therapy against Malaria (artemisinin)\"                                                                                                           1\n",
       "\"For her contribution to sustainable development, democracy and peace\"                                                                                                                   1\n",
       "\"For their struggle against the suppression of children and young people and for the right of all children to education\".                                                                1\n",
       "\"Sociologist; International President, Women's International League for Peace and Freedom.                                                                                               1\n",
       "\"For their work for the banning and clearing of anti-personnel mines\"                                                                                                                    1\n",
       "\"For her analysis of economic governance, especially the commons\"                                                                                                                        1\n",
       "\"Former Cabinet Minister; Diplomat; Writer.\"                                                                                                                                             1\n",
       "\"For her non-violent struggle for democracy and human rights\"                                                                                                                            1\n",
       "\"For her discovery of mobile genetic elements\"                                                                                                                                           1\n",
       "\"Honorary President of Permanent International Peace Bureau, Bern, Switzerland; Author of \"Lay Down Your Arms\".\"                                                                         1\n",
       "\"For their discoveries concerning the genetic control of early embryonic development\"                                                                                                    1\n",
       "\"For their method of generating high-intensity, ultra-short optical pulses\"                                                                                                              1\n",
       "\"That epicist of the female experience, who with scepticism, fire and visionary power has subjected a divided civilisation to scrutiny\"                                                  1\n",
       "\"For her determinations by X-ray techniques of the structures of important biochemical substances\"                                                                                       1\n",
       "\"For her musical flow of voices and counter-voices in novels and plays that with extraordinary linguistic zeal reveal the absurdity of society's clichés and their subjugating power\"    1\n",
       "\"Formerly Professor of History and Sociology; Honorary International President, Women's International League for Peace and Freedom.\"                                                     1\n",
       "\"Master of the contemporary short story\"                                                                                                                                                 1\n",
       "\"For their experimental approach to alleviating global poverty\"                                                                                                                          1\n",
       "\"For the directed evolution of enzymes\"                                                                                                                                                  1\n",
       "\"For their discovery of HIV, human immunodeficiency virus\"                                                                                                                               1\n",
       "\"For her lyric poetry which, inspired by powerful emotions, has made her name a symbol of the idealistic aspirations of the entire Latin American world\"                                 1\n",
       "\"For their discoveries of important principles for drug treatment\"                                                                                                                       1\n",
       "\"For their discovery of the course of the catalytic conversion of glycogen\"                                                                                                              1\n",
       "\"For her idealistically inspired writings which with plastic clarity picture the life on her native island and with depth and sympathy deal with human problems in general\"              1\n",
       "\"Who, with the concentration of poetry and the frankness of prose, depicts the landscape of the dispossessed\"                                                                            1\n",
       "\"For their synthesis of new radioactive elements\"                                                                                                                                        1\n",
       "\"For poetry that with ironic precision allows the historical and biological context to come to light in fragments of human reality\"                                                      1\n",
       "Name: count, dtype: int64"
      ]
     },
     "execution_count": 13,
     "metadata": {},
     "output_type": "execute_result"
    }
   ],
   "source": [
    "df1['Description'].value_counts()"
   ]
  },
  {
   "cell_type": "code",
   "execution_count": 14,
   "id": "3963db2d-0e6d-4622-b948-95742001e7a1",
   "metadata": {},
   "outputs": [
    {
     "data": {
      "text/plain": [
       "Details\n",
       "Born in North Ireland, part of the UK                                 2\n",
       "Born in Congress Poland, worked in France                             2\n",
       "Born in the Austrian Empire, now Czech Republic                       1\n",
       "Born in Iran, worked in the UK                                        1\n",
       "Born in Australia, worked in the US                                   1\n",
       "Born in France, worked in the US                                      1\n",
       "Born in the Austrian Empire (now Czech Republic), worked in the US    1\n",
       "Born in Romania, worked in Germany                                    1\n",
       "Born in then Germany,  worked in the US                               1\n",
       "Born in then Ottoman Empire (now North Macedonia), worked in India    1\n",
       "Born in Germany, worked in Sweden                                     1\n",
       "Born in Italy, worked in the USA                                      1\n",
       "Born in Ukraine, worked in Belarus                                    1\n",
       "Name: count, dtype: int64"
      ]
     },
     "execution_count": 14,
     "metadata": {},
     "output_type": "execute_result"
    }
   ],
   "source": [
    "df1['Details'].value_counts()"
   ]
  },
  {
   "cell_type": "markdown",
   "id": "40eac12d-7f0b-4ecf-8314-60a5c2ecca1f",
   "metadata": {},
   "source": [
    "- Dataset has 948 rowns and 7 columns\n",
    "- The numeric variables are: Year\n",
    "- The categorical variables are: Name, Category, Countries, Gender, Description and Details\n",
    "- The are missing values for Description and Details\n",
    "- No duplicated values"
   ]
  },
  {
   "cell_type": "code",
   "execution_count": 15,
   "id": "d5d6a845-0ff3-4511-ac4d-faeea7d0278f",
   "metadata": {},
   "outputs": [
    {
     "data": {
      "text/html": [
       "<div>\n",
       "<style scoped>\n",
       "    .dataframe tbody tr th:only-of-type {\n",
       "        vertical-align: middle;\n",
       "    }\n",
       "\n",
       "    .dataframe tbody tr th {\n",
       "        vertical-align: top;\n",
       "    }\n",
       "\n",
       "    .dataframe thead th {\n",
       "        text-align: right;\n",
       "    }\n",
       "</style>\n",
       "<table border=\"1\" class=\"dataframe\">\n",
       "  <thead>\n",
       "    <tr style=\"text-align: right;\">\n",
       "      <th></th>\n",
       "      <th>Name</th>\n",
       "      <th>Year</th>\n",
       "      <th>Country</th>\n",
       "      <th>Countries</th>\n",
       "      <th>Category</th>\n",
       "      <th>Gender</th>\n",
       "      <th>Details</th>\n",
       "    </tr>\n",
       "  </thead>\n",
       "  <tbody>\n",
       "    <tr>\n",
       "      <th>0</th>\n",
       "      <td>14th Dalai Lama</td>\n",
       "      <td>1989</td>\n",
       "      <td>Tibet</td>\n",
       "      <td>Tibet</td>\n",
       "      <td>Peace</td>\n",
       "      <td>Man</td>\n",
       "      <td>born in Tibet</td>\n",
       "    </tr>\n",
       "    <tr>\n",
       "      <th>1</th>\n",
       "      <td>A. Michael Spence</td>\n",
       "      <td>2001</td>\n",
       "      <td>United States</td>\n",
       "      <td>United States</td>\n",
       "      <td>Economics</td>\n",
       "      <td>Man</td>\n",
       "      <td>NaN</td>\n",
       "    </tr>\n",
       "    <tr>\n",
       "      <th>2</th>\n",
       "      <td>Aage Bohr</td>\n",
       "      <td>1975</td>\n",
       "      <td>Denmark</td>\n",
       "      <td>Denmark</td>\n",
       "      <td>Physics</td>\n",
       "      <td>Man</td>\n",
       "      <td>NaN</td>\n",
       "    </tr>\n",
       "    <tr>\n",
       "      <th>3</th>\n",
       "      <td>Aaron Ciechanover</td>\n",
       "      <td>2004</td>\n",
       "      <td>Israel</td>\n",
       "      <td>Israel</td>\n",
       "      <td>Chemistry</td>\n",
       "      <td>Man</td>\n",
       "      <td>NaN</td>\n",
       "    </tr>\n",
       "    <tr>\n",
       "      <th>4</th>\n",
       "      <td>Aaron Klug</td>\n",
       "      <td>1982</td>\n",
       "      <td>Lithuania</td>\n",
       "      <td>Lithuania</td>\n",
       "      <td>Chemistry</td>\n",
       "      <td>Man</td>\n",
       "      <td>NaN</td>\n",
       "    </tr>\n",
       "  </tbody>\n",
       "</table>\n",
       "</div>"
      ],
      "text/plain": [
       "                Name  Year        Country      Countries   Category Gender  \\\n",
       "0    14th Dalai Lama  1989          Tibet          Tibet      Peace    Man   \n",
       "1  A. Michael Spence  2001  United States  United States  Economics    Man   \n",
       "2          Aage Bohr  1975        Denmark        Denmark    Physics    Man   \n",
       "3  Aaron Ciechanover  2004         Israel         Israel  Chemistry    Man   \n",
       "4         Aaron Klug  1982      Lithuania      Lithuania  Chemistry    Man   \n",
       "\n",
       "          Details  \n",
       "0   born in Tibet  \n",
       "1             NaN  \n",
       "2             NaN  \n",
       "3             NaN  \n",
       "4             NaN  "
      ]
     },
     "execution_count": 15,
     "metadata": {},
     "output_type": "execute_result"
    }
   ],
   "source": [
    "df2 = pd.read_csv(r'nobel_prize_awarded_country_details_1901_2019.csv')\n",
    "df2.head()"
   ]
  },
  {
   "cell_type": "code",
   "execution_count": 16,
   "id": "badedb3b-fa35-40d0-bc9c-46493bd3590a",
   "metadata": {},
   "outputs": [
    {
     "data": {
      "text/plain": [
       "(1142, 7)"
      ]
     },
     "execution_count": 16,
     "metadata": {},
     "output_type": "execute_result"
    }
   ],
   "source": [
    "df2.shape"
   ]
  },
  {
   "cell_type": "code",
   "execution_count": 17,
   "id": "4a720dae-c927-4649-bdf3-ad947de1d321",
   "metadata": {},
   "outputs": [
    {
     "name": "stdout",
     "output_type": "stream",
     "text": [
      "<class 'pandas.core.frame.DataFrame'>\n",
      "RangeIndex: 1142 entries, 0 to 1141\n",
      "Data columns (total 7 columns):\n",
      " #   Column     Non-Null Count  Dtype \n",
      "---  ------     --------------  ----- \n",
      " 0   Name       1142 non-null   object\n",
      " 1   Year       1142 non-null   int64 \n",
      " 2   Country    1142 non-null   object\n",
      " 3   Countries  1142 non-null   object\n",
      " 4   Category   1142 non-null   object\n",
      " 5   Gender     1142 non-null   object\n",
      " 6   Details    271 non-null    object\n",
      "dtypes: int64(1), object(6)\n",
      "memory usage: 62.6+ KB\n"
     ]
    }
   ],
   "source": [
    "df2.info()"
   ]
  },
  {
   "cell_type": "code",
   "execution_count": 18,
   "id": "4d0865b0-e271-44ee-9998-e816eb496a2b",
   "metadata": {},
   "outputs": [
    {
     "data": {
      "text/plain": [
       "Name           0\n",
       "Year           0\n",
       "Country        0\n",
       "Countries      0\n",
       "Category       0\n",
       "Gender         0\n",
       "Details      871\n",
       "dtype: int64"
      ]
     },
     "execution_count": 18,
     "metadata": {},
     "output_type": "execute_result"
    }
   ],
   "source": [
    "df2.isnull().sum()"
   ]
  },
  {
   "cell_type": "code",
   "execution_count": 19,
   "id": "b39db7a5-b46d-41cd-9605-da45f56ede15",
   "metadata": {},
   "outputs": [
    {
     "data": {
      "text/plain": [
       "False    1142\n",
       "Name: count, dtype: int64"
      ]
     },
     "execution_count": 19,
     "metadata": {},
     "output_type": "execute_result"
    }
   ],
   "source": [
    "(df2.duplicated()).value_counts()"
   ]
  },
  {
   "cell_type": "code",
   "execution_count": 20,
   "id": "b8f8fb87-f888-4210-8f9d-a6cdbc8d6771",
   "metadata": {},
   "outputs": [
    {
     "data": {
      "text/plain": [
       "True     941\n",
       "False    201\n",
       "Name: count, dtype: int64"
      ]
     },
     "execution_count": 20,
     "metadata": {},
     "output_type": "execute_result"
    }
   ],
   "source": [
    "(df2['Country'] == df2['Countries']).value_counts()"
   ]
  },
  {
   "cell_type": "code",
   "execution_count": 21,
   "id": "319df045-777c-40a9-b78f-48bfcede6f62",
   "metadata": {},
   "outputs": [
    {
     "data": {
      "text/html": [
       "<div>\n",
       "<style scoped>\n",
       "    .dataframe tbody tr th:only-of-type {\n",
       "        vertical-align: middle;\n",
       "    }\n",
       "\n",
       "    .dataframe tbody tr th {\n",
       "        vertical-align: top;\n",
       "    }\n",
       "\n",
       "    .dataframe thead th {\n",
       "        text-align: right;\n",
       "    }\n",
       "</style>\n",
       "<table border=\"1\" class=\"dataframe\">\n",
       "  <thead>\n",
       "    <tr style=\"text-align: right;\">\n",
       "      <th></th>\n",
       "      <th>Name</th>\n",
       "      <th>Year</th>\n",
       "      <th>Country</th>\n",
       "      <th>Countries</th>\n",
       "      <th>Category</th>\n",
       "      <th>Gender</th>\n",
       "      <th>Details</th>\n",
       "    </tr>\n",
       "  </thead>\n",
       "  <tbody>\n",
       "    <tr>\n",
       "      <th>5</th>\n",
       "      <td>Aaron Klug</td>\n",
       "      <td>1982</td>\n",
       "      <td>South Africa</td>\n",
       "      <td>Lithuania, South Africa</td>\n",
       "      <td>Chemistry</td>\n",
       "      <td>Man</td>\n",
       "      <td>NaN</td>\n",
       "    </tr>\n",
       "    <tr>\n",
       "      <th>6</th>\n",
       "      <td>Aaron Klug</td>\n",
       "      <td>1982</td>\n",
       "      <td>United Kingdom</td>\n",
       "      <td>Lithuania, South Africa, United Kingdom</td>\n",
       "      <td>Chemistry</td>\n",
       "      <td>Man</td>\n",
       "      <td>born in Lithuania</td>\n",
       "    </tr>\n",
       "    <tr>\n",
       "      <th>9</th>\n",
       "      <td>Abhijit Banerjee</td>\n",
       "      <td>2019</td>\n",
       "      <td>United States</td>\n",
       "      <td>India, United States</td>\n",
       "      <td>Economics</td>\n",
       "      <td>Man</td>\n",
       "      <td>born in India</td>\n",
       "    </tr>\n",
       "    <tr>\n",
       "      <th>25</th>\n",
       "      <td>Alan MacDiarmid</td>\n",
       "      <td>2000</td>\n",
       "      <td>United States</td>\n",
       "      <td>New Zealand, United States</td>\n",
       "      <td>Chemistry</td>\n",
       "      <td>Man</td>\n",
       "      <td>born in New Zealand</td>\n",
       "    </tr>\n",
       "    <tr>\n",
       "      <th>27</th>\n",
       "      <td>Albert A. Michelson</td>\n",
       "      <td>1907</td>\n",
       "      <td>United States</td>\n",
       "      <td>Poland, United States</td>\n",
       "      <td>Physics</td>\n",
       "      <td>Man</td>\n",
       "      <td>born in then Germany,  now Poland</td>\n",
       "    </tr>\n",
       "    <tr>\n",
       "      <th>...</th>\n",
       "      <td>...</td>\n",
       "      <td>...</td>\n",
       "      <td>...</td>\n",
       "      <td>...</td>\n",
       "      <td>...</td>\n",
       "      <td>...</td>\n",
       "      <td>...</td>\n",
       "    </tr>\n",
       "    <tr>\n",
       "      <th>1119</th>\n",
       "      <td>William Vickrey</td>\n",
       "      <td>1996</td>\n",
       "      <td>United States</td>\n",
       "      <td>Canada, United States</td>\n",
       "      <td>Economics</td>\n",
       "      <td>Man</td>\n",
       "      <td>Born in Canada</td>\n",
       "    </tr>\n",
       "    <tr>\n",
       "      <th>1125</th>\n",
       "      <td>Władysław Reymont</td>\n",
       "      <td>1924</td>\n",
       "      <td>Russia and Soviet Union</td>\n",
       "      <td>Poland, Russia and Soviet Union</td>\n",
       "      <td>Literature</td>\n",
       "      <td>Man</td>\n",
       "      <td>Born in Congress Poland (Russian Empire)</td>\n",
       "    </tr>\n",
       "    <tr>\n",
       "      <th>1135</th>\n",
       "      <td>Yoichiro Nambu</td>\n",
       "      <td>2008</td>\n",
       "      <td>United States</td>\n",
       "      <td>Japan, United States</td>\n",
       "      <td>Physics</td>\n",
       "      <td>Man</td>\n",
       "      <td>Born in Japan</td>\n",
       "    </tr>\n",
       "    <tr>\n",
       "      <th>1138</th>\n",
       "      <td>Yuan T. Lee</td>\n",
       "      <td>1986</td>\n",
       "      <td>United States</td>\n",
       "      <td>Taiwan (China, Republic of), United States</td>\n",
       "      <td>Chemistry</td>\n",
       "      <td>Man</td>\n",
       "      <td>Born in Taiwan</td>\n",
       "    </tr>\n",
       "    <tr>\n",
       "      <th>1141</th>\n",
       "      <td>Zhores Alferov</td>\n",
       "      <td>2000</td>\n",
       "      <td>Russia and Soviet Union</td>\n",
       "      <td>Belarus, Russia and Soviet Union</td>\n",
       "      <td>Physics</td>\n",
       "      <td>Man</td>\n",
       "      <td>Born in then Soviet Union,  now Belarus</td>\n",
       "    </tr>\n",
       "  </tbody>\n",
       "</table>\n",
       "<p>201 rows × 7 columns</p>\n",
       "</div>"
      ],
      "text/plain": [
       "                     Name  Year                  Country  \\\n",
       "5              Aaron Klug  1982             South Africa   \n",
       "6              Aaron Klug  1982           United Kingdom   \n",
       "9        Abhijit Banerjee  2019            United States   \n",
       "25        Alan MacDiarmid  2000            United States   \n",
       "27    Albert A. Michelson  1907            United States   \n",
       "...                   ...   ...                      ...   \n",
       "1119      William Vickrey  1996            United States   \n",
       "1125    Władysław Reymont  1924  Russia and Soviet Union   \n",
       "1135       Yoichiro Nambu  2008            United States   \n",
       "1138          Yuan T. Lee  1986            United States   \n",
       "1141       Zhores Alferov  2000  Russia and Soviet Union   \n",
       "\n",
       "                                       Countries    Category Gender  \\\n",
       "5                        Lithuania, South Africa   Chemistry    Man   \n",
       "6        Lithuania, South Africa, United Kingdom   Chemistry    Man   \n",
       "9                           India, United States   Economics    Man   \n",
       "25                    New Zealand, United States   Chemistry    Man   \n",
       "27                         Poland, United States     Physics    Man   \n",
       "...                                          ...         ...    ...   \n",
       "1119                       Canada, United States   Economics    Man   \n",
       "1125             Poland, Russia and Soviet Union  Literature    Man   \n",
       "1135                        Japan, United States     Physics    Man   \n",
       "1138  Taiwan (China, Republic of), United States   Chemistry    Man   \n",
       "1141            Belarus, Russia and Soviet Union     Physics    Man   \n",
       "\n",
       "                                        Details  \n",
       "5                                           NaN  \n",
       "6                             born in Lithuania  \n",
       "9                                 born in India  \n",
       "25                          born in New Zealand  \n",
       "27            born in then Germany,  now Poland  \n",
       "...                                         ...  \n",
       "1119                             Born in Canada  \n",
       "1125   Born in Congress Poland (Russian Empire)  \n",
       "1135                              Born in Japan  \n",
       "1138                             Born in Taiwan  \n",
       "1141    Born in then Soviet Union,  now Belarus  \n",
       "\n",
       "[201 rows x 7 columns]"
      ]
     },
     "execution_count": 21,
     "metadata": {},
     "output_type": "execute_result"
    }
   ],
   "source": [
    "df2[(df2['Country'] == df2['Countries']) == False]"
   ]
  },
  {
   "cell_type": "code",
   "execution_count": 22,
   "id": "ffb1b0e4-4d50-4f95-af98-a93982835457",
   "metadata": {},
   "outputs": [
    {
     "data": {
      "text/plain": [
       "Name\n",
       "Michael Levitt            3\n",
       "Charles K. Kao            3\n",
       "Aaron Klug                2\n",
       "Vladimir Prelog           2\n",
       "Leonid Hurwicz            2\n",
       "                         ..\n",
       "Hans Bethe                1\n",
       "Hans G. Dehmelt           1\n",
       "Hans von Euler-Chelpin    1\n",
       "Har Gobind Khorana        1\n",
       "Zhores Alferov            1\n",
       "Name: count, Length: 186, dtype: int64"
      ]
     },
     "execution_count": 22,
     "metadata": {},
     "output_type": "execute_result"
    }
   ],
   "source": [
    "df2[(df2['Country'] == df2['Countries']) == False]['Name'].value_counts()"
   ]
  },
  {
   "cell_type": "code",
   "execution_count": 23,
   "id": "6ad17b3b-085e-402d-af45-dfaa56129868",
   "metadata": {},
   "outputs": [
    {
     "data": {
      "text/plain": [
       "Name         937\n",
       "Year         116\n",
       "Country       76\n",
       "Countries    180\n",
       "Category       6\n",
       "Gender         3\n",
       "Details      138\n",
       "dtype: int64"
      ]
     },
     "execution_count": 23,
     "metadata": {},
     "output_type": "execute_result"
    }
   ],
   "source": [
    "df2.nunique()"
   ]
  },
  {
   "cell_type": "code",
   "execution_count": 24,
   "id": "2b12679a-f75f-49ec-ad79-4e7e1a16d943",
   "metadata": {},
   "outputs": [
    {
     "data": {
      "text/plain": [
       "Name\n",
       "Charles K. Kao            4\n",
       "Michael Levitt            4\n",
       "Marie Skłodowska-Curie    4\n",
       "Roald Hoffmann            3\n",
       "Czesław Miłosz            3\n",
       "                         ..\n",
       "Hamilton O. Smith         1\n",
       "Hannes Alfvén             1\n",
       "Hans Fischer              1\n",
       "Hans Spemann              1\n",
       "Johannes Stark            1\n",
       "Name: count, Length: 937, dtype: int64"
      ]
     },
     "execution_count": 24,
     "metadata": {},
     "output_type": "execute_result"
    }
   ],
   "source": [
    "df2['Name'].value_counts()"
   ]
  },
  {
   "cell_type": "code",
   "execution_count": 25,
   "id": "06b8caee-6936-423a-8737-fd2458e389f0",
   "metadata": {},
   "outputs": [
    {
     "data": {
      "text/plain": [
       "count    1142.000000\n",
       "mean     1972.494746\n",
       "std        33.188721\n",
       "min      1901.000000\n",
       "25%      1950.000000\n",
       "50%      1978.000000\n",
       "75%      2000.000000\n",
       "max      2019.000000\n",
       "Name: Year, dtype: float64"
      ]
     },
     "execution_count": 25,
     "metadata": {},
     "output_type": "execute_result"
    }
   ],
   "source": [
    "df2['Year'].describe()"
   ]
  },
  {
   "cell_type": "code",
   "execution_count": 26,
   "id": "2477e910-51ed-494a-be9f-a0d7beb4f564",
   "metadata": {},
   "outputs": [
    {
     "data": {
      "text/plain": [
       "Country\n",
       "United States      385\n",
       "United Kingdom     133\n",
       "Germany            108\n",
       "France              69\n",
       "Sweden              32\n",
       "                  ... \n",
       "Hong Kong            1\n",
       "Venezuela            1\n",
       "Myanmar (Burma)      1\n",
       "Ethiopia             1\n",
       "Palestine            1\n",
       "Name: count, Length: 76, dtype: int64"
      ]
     },
     "execution_count": 26,
     "metadata": {},
     "output_type": "execute_result"
    }
   ],
   "source": [
    "df2['Country'].value_counts()"
   ]
  },
  {
   "cell_type": "code",
   "execution_count": 27,
   "id": "6cd6e29a-09cf-4581-8445-c5148de205ef",
   "metadata": {},
   "outputs": [
    {
     "data": {
      "text/plain": [
       "Countries\n",
       "United States                       285\n",
       "Germany                             100\n",
       "United Kingdom                       95\n",
       "France                               67\n",
       "Sweden                               29\n",
       "                                   ... \n",
       "Australia, United States              1\n",
       "Bulgaria, United Kingdom              1\n",
       "Bulgaria                              1\n",
       "United States, Switzerland            1\n",
       "Belarus, Russia and Soviet Union      1\n",
       "Name: count, Length: 180, dtype: int64"
      ]
     },
     "execution_count": 27,
     "metadata": {},
     "output_type": "execute_result"
    }
   ],
   "source": [
    "df2['Countries'].value_counts()"
   ]
  },
  {
   "cell_type": "code",
   "execution_count": 28,
   "id": "7d70c86d-ee23-485b-97c9-b616985299ef",
   "metadata": {},
   "outputs": [
    {
     "data": {
      "text/plain": [
       "Category\n",
       "Physiology or Medicine    274\n",
       "Physics                   261\n",
       "Chemistry                 234\n",
       "Literature                139\n",
       "Peace                     131\n",
       "Economics                 103\n",
       "Name: count, dtype: int64"
      ]
     },
     "execution_count": 28,
     "metadata": {},
     "output_type": "execute_result"
    }
   ],
   "source": [
    "df2['Category'].value_counts()"
   ]
  },
  {
   "cell_type": "code",
   "execution_count": 29,
   "id": "d18ffef9-aaad-4ba4-af45-bd8dc034eaef",
   "metadata": {},
   "outputs": [
    {
     "data": {
      "text/plain": [
       "Gender\n",
       "Man             1064\n",
       "Woman             68\n",
       "Organization      10\n",
       "Name: count, dtype: int64"
      ]
     },
     "execution_count": 29,
     "metadata": {},
     "output_type": "execute_result"
    }
   ],
   "source": [
    "df2['Gender'].value_counts()"
   ]
  },
  {
   "cell_type": "code",
   "execution_count": 30,
   "id": "2d446190-7fe1-43a4-b59a-0e804bac7c23",
   "metadata": {},
   "outputs": [
    {
     "data": {
      "text/plain": [
       "Details\n",
       " born in Germany                            21\n",
       " born in United Kingdom                     10\n",
       " born in Canada                              9\n",
       " born in Austria                             7\n",
       " born in China                               6\n",
       "                                            ..\n",
       " born in Ireland                             1\n",
       " born in Austria-Hungary,  now Slovenia      1\n",
       " born in then Germany,  now Russia           1\n",
       " born in Austria-Hungary,  now Slovenia      1\n",
       " Born in then Soviet Union,  now Belarus     1\n",
       "Name: count, Length: 138, dtype: int64"
      ]
     },
     "execution_count": 30,
     "metadata": {},
     "output_type": "execute_result"
    }
   ],
   "source": [
    "df2['Details'].value_counts()"
   ]
  },
  {
   "cell_type": "markdown",
   "id": "826ecb52-4018-46bd-8aa9-131b005f5f76",
   "metadata": {},
   "source": [
    "- Dataset has 1142 rowns and 7 columns\n",
    "- The numeric variables are: Year\n",
    "- The categorical variables are: Name, Category, Country,Countries, Gender and Details\n",
    "- The are missing values for Details\n",
    "- No duplicated values\n",
    "- Variable Country is different than Countries"
   ]
  },
  {
   "cell_type": "code",
   "execution_count": 31,
   "id": "72c9263e-1352-45b4-92d8-dc80cf6b122a",
   "metadata": {},
   "outputs": [
    {
     "data": {
      "text/html": [
       "<div>\n",
       "<style scoped>\n",
       "    .dataframe tbody tr th:only-of-type {\n",
       "        vertical-align: middle;\n",
       "    }\n",
       "\n",
       "    .dataframe tbody tr th {\n",
       "        vertical-align: top;\n",
       "    }\n",
       "\n",
       "    .dataframe thead th {\n",
       "        text-align: right;\n",
       "    }\n",
       "</style>\n",
       "<table border=\"1\" class=\"dataframe\">\n",
       "  <thead>\n",
       "    <tr style=\"text-align: right;\">\n",
       "      <th></th>\n",
       "      <th>Name</th>\n",
       "      <th>Year</th>\n",
       "      <th>Country</th>\n",
       "      <th>Category</th>\n",
       "      <th>Description</th>\n",
       "      <th>Details</th>\n",
       "      <th>Shares</th>\n",
       "    </tr>\n",
       "  </thead>\n",
       "  <tbody>\n",
       "    <tr>\n",
       "      <th>0</th>\n",
       "      <td>Ada Yonath</td>\n",
       "      <td>2009</td>\n",
       "      <td>Israel</td>\n",
       "      <td>Chemistry</td>\n",
       "      <td>\"For studies of the structure and function of ...</td>\n",
       "      <td>NaN</td>\n",
       "      <td>(shared with Pierre Curie and Henri Becquerel)</td>\n",
       "    </tr>\n",
       "    <tr>\n",
       "      <th>1</th>\n",
       "      <td>Alice Munro</td>\n",
       "      <td>2013</td>\n",
       "      <td>Canada</td>\n",
       "      <td>Literature</td>\n",
       "      <td>\"Master of the contemporary short story\"</td>\n",
       "      <td>NaN</td>\n",
       "      <td>NaN</td>\n",
       "    </tr>\n",
       "    <tr>\n",
       "      <th>2</th>\n",
       "      <td>Alva Myrdal</td>\n",
       "      <td>1982</td>\n",
       "      <td>Sweden</td>\n",
       "      <td>Peace</td>\n",
       "      <td>\"Former Cabinet Minister; Diplomat; Writer.\"</td>\n",
       "      <td>NaN</td>\n",
       "      <td>NaN</td>\n",
       "    </tr>\n",
       "    <tr>\n",
       "      <th>3</th>\n",
       "      <td>Aung San Suu Kyi</td>\n",
       "      <td>1991</td>\n",
       "      <td>Burma</td>\n",
       "      <td>Peace</td>\n",
       "      <td>\"For her non-violent struggle for democracy an...</td>\n",
       "      <td>NaN</td>\n",
       "      <td>NaN</td>\n",
       "    </tr>\n",
       "    <tr>\n",
       "      <th>4</th>\n",
       "      <td>Barbara McClintock</td>\n",
       "      <td>1983</td>\n",
       "      <td>United States</td>\n",
       "      <td>Physiology or Medicine</td>\n",
       "      <td>\"For her discovery of mobile genetic elements\"</td>\n",
       "      <td>NaN</td>\n",
       "      <td>NaN</td>\n",
       "    </tr>\n",
       "  </tbody>\n",
       "</table>\n",
       "</div>"
      ],
      "text/plain": [
       "                 Name  Year        Country                Category  \\\n",
       "0          Ada Yonath  2009         Israel               Chemistry   \n",
       "1         Alice Munro  2013         Canada              Literature   \n",
       "2         Alva Myrdal  1982         Sweden                   Peace   \n",
       "3    Aung San Suu Kyi  1991          Burma                   Peace   \n",
       "4  Barbara McClintock  1983  United States  Physiology or Medicine   \n",
       "\n",
       "                                         Description Details  \\\n",
       "0  \"For studies of the structure and function of ...     NaN   \n",
       "1           \"Master of the contemporary short story\"     NaN   \n",
       "2       \"Former Cabinet Minister; Diplomat; Writer.\"     NaN   \n",
       "3  \"For her non-violent struggle for democracy an...     NaN   \n",
       "4     \"For her discovery of mobile genetic elements\"     NaN   \n",
       "\n",
       "                                           Shares  \n",
       "0  (shared with Pierre Curie and Henri Becquerel)  \n",
       "1                                             NaN  \n",
       "2                                             NaN  \n",
       "3                                             NaN  \n",
       "4                                             NaN  "
      ]
     },
     "execution_count": 31,
     "metadata": {},
     "output_type": "execute_result"
    }
   ],
   "source": [
    "df3 = pd.read_csv(r'nobel_prize_awarded_women_details_1901_2019.csv')\n",
    "df3.head()"
   ]
  },
  {
   "cell_type": "code",
   "execution_count": 32,
   "id": "5c5f2345-7e0c-4e19-96ec-8b102497f470",
   "metadata": {},
   "outputs": [
    {
     "data": {
      "text/plain": [
       "(54, 7)"
      ]
     },
     "execution_count": 32,
     "metadata": {},
     "output_type": "execute_result"
    }
   ],
   "source": [
    "df3.shape"
   ]
  },
  {
   "cell_type": "code",
   "execution_count": 33,
   "id": "457759c6-9b3e-4ab1-b650-0959094fc4b8",
   "metadata": {},
   "outputs": [
    {
     "name": "stdout",
     "output_type": "stream",
     "text": [
      "<class 'pandas.core.frame.DataFrame'>\n",
      "RangeIndex: 54 entries, 0 to 53\n",
      "Data columns (total 7 columns):\n",
      " #   Column       Non-Null Count  Dtype \n",
      "---  ------       --------------  ----- \n",
      " 0   Name         54 non-null     object\n",
      " 1   Year         54 non-null     int64 \n",
      " 2   Country      54 non-null     object\n",
      " 3   Category     54 non-null     object\n",
      " 4   Description  54 non-null     object\n",
      " 5   Details      16 non-null     object\n",
      " 6   Shares       26 non-null     object\n",
      "dtypes: int64(1), object(6)\n",
      "memory usage: 3.1+ KB\n"
     ]
    }
   ],
   "source": [
    "df3.info()"
   ]
  },
  {
   "cell_type": "code",
   "execution_count": 34,
   "id": "f15139f4-5d49-49a5-8ecb-773464218048",
   "metadata": {},
   "outputs": [
    {
     "data": {
      "text/plain": [
       "Name            0\n",
       "Year            0\n",
       "Country         0\n",
       "Category        0\n",
       "Description     0\n",
       "Details        38\n",
       "Shares         28\n",
       "dtype: int64"
      ]
     },
     "execution_count": 34,
     "metadata": {},
     "output_type": "execute_result"
    }
   ],
   "source": [
    "df3.isnull().sum()"
   ]
  },
  {
   "cell_type": "code",
   "execution_count": 35,
   "id": "1ed64f0f-433c-468e-8212-eb6745ee95e6",
   "metadata": {},
   "outputs": [
    {
     "data": {
      "text/plain": [
       "False    54\n",
       "Name: count, dtype: int64"
      ]
     },
     "execution_count": 35,
     "metadata": {},
     "output_type": "execute_result"
    }
   ],
   "source": [
    "(df3.duplicated()).value_counts()"
   ]
  },
  {
   "cell_type": "code",
   "execution_count": 36,
   "id": "82343eab-f762-4373-8708-14f311a999a6",
   "metadata": {},
   "outputs": [
    {
     "data": {
      "text/plain": [
       "Name           53\n",
       "Year           39\n",
       "Country        35\n",
       "Category        6\n",
       "Description    50\n",
       "Details        14\n",
       "Shares         25\n",
       "dtype: int64"
      ]
     },
     "execution_count": 36,
     "metadata": {},
     "output_type": "execute_result"
    }
   ],
   "source": [
    "df3.nunique()"
   ]
  },
  {
   "cell_type": "code",
   "execution_count": 37,
   "id": "2c5746a7-532c-4a7a-b6db-40b658699177",
   "metadata": {},
   "outputs": [
    {
     "data": {
      "text/plain": [
       "Name\n",
       "Marie Skłodowska-Curie         2\n",
       "Ada Yonath                     1\n",
       "Jody Williams                  1\n",
       "Linda B. Buck                  1\n",
       "Mairead Maguire                1\n",
       "Malala Yousafzai               1\n",
       "Maria Goeppert-Mayer           1\n",
       "May-Britt Moser                1\n",
       "Mother Teresa                  1\n",
       "Nadia Murad                    1\n",
       "Nadine Gordimer                1\n",
       "Nelly Sachs                    1\n",
       "Olga Tokarczuk                 1\n",
       "Pearl S. Buck                  1\n",
       "Rigoberta Menchú               1\n",
       "Rita Levi-Montalcini           1\n",
       "Rosalyn Sussman Yalow          1\n",
       "Selma Lagerlöf                 1\n",
       "Shirin Ebadi                   1\n",
       "Sigrid Undset                  1\n",
       "Svetlana Alexievich            1\n",
       "Tawakkol Karman                1\n",
       "Toni Morrison                  1\n",
       "Tu Youyou                      1\n",
       "Wangari Maathai                1\n",
       "Leymah Gbowee                  1\n",
       "Jane Addams                    1\n",
       "Alice Munro                    1\n",
       "Irène Joliot-Curie             1\n",
       "Alva Myrdal                    1\n",
       "Aung San Suu Kyi               1\n",
       "Barbara McClintock             1\n",
       "Bertha von Suttner             1\n",
       "Betty Williams                 1\n",
       "Carol W. Greider               1\n",
       "Christiane Nüsslein-Volhard    1\n",
       "Donna Strickland               1\n",
       "Doris Lessing                  1\n",
       "Dorothy Hodgkin                1\n",
       "Elfriede Jelinek               1\n",
       "Elinor Ostrom                  1\n",
       "Elizabeth Blackburn            1\n",
       "Ellen Johnson Sirleaf          1\n",
       "Emily Greene Balch             1\n",
       "Esther Duflo                   1\n",
       "Frances H. Arnold              1\n",
       "Françoise Barré-Sinoussi       1\n",
       "Gabriela Mistral               1\n",
       "Gertrude B. Elion              1\n",
       "Gerty Cori                     1\n",
       "Grazia Deledda                 1\n",
       "Herta Müller                   1\n",
       "Wisława Szymborska             1\n",
       "Name: count, dtype: int64"
      ]
     },
     "execution_count": 37,
     "metadata": {},
     "output_type": "execute_result"
    }
   ],
   "source": [
    "df3['Name'].value_counts()"
   ]
  },
  {
   "cell_type": "code",
   "execution_count": 38,
   "id": "abebbd05-6ec6-4a6f-96c8-9407a8f7073a",
   "metadata": {},
   "outputs": [
    {
     "data": {
      "text/plain": [
       "count      54.000000\n",
       "mean     1983.129630\n",
       "std        34.294532\n",
       "min      1903.000000\n",
       "25%      1964.500000\n",
       "50%      1994.000000\n",
       "75%      2009.000000\n",
       "max      2019.000000\n",
       "Name: Year, dtype: float64"
      ]
     },
     "execution_count": 38,
     "metadata": {},
     "output_type": "execute_result"
    }
   ],
   "source": [
    "df3['Year'].describe()"
   ]
  },
  {
   "cell_type": "code",
   "execution_count": 39,
   "id": "bb229c29-0dcd-4bd9-baa0-6f59b5053bb1",
   "metadata": {},
   "outputs": [
    {
     "data": {
      "text/plain": [
       "Country\n",
       "United States                    12\n",
       "Norway                            2\n",
       "Sweden                            2\n",
       "Canada                            2\n",
       "Ireland, United Kingdom           2\n",
       "France                            2\n",
       "France, Poland                    2\n",
       "Poland                            2\n",
       "Liberia                           2\n",
       "Germany, Sweden                   1\n",
       "India, North Macedonia            1\n",
       "Iraq                              1\n",
       "South Africa                      1\n",
       "Israel                            1\n",
       "Italy, United States              1\n",
       "Iran                              1\n",
       "Belarus, Ukraine                  1\n",
       "Yemen                             1\n",
       "China                             1\n",
       "Guatemala                         1\n",
       "Italy                             1\n",
       "Germany, United States            1\n",
       "Pakistan                          1\n",
       "Germany, Romania                  1\n",
       "Czech Republic, United States     1\n",
       "Chile                             1\n",
       "France, United States             1\n",
       "Australia, United States          1\n",
       "Austria                           1\n",
       "United Kingdom                    1\n",
       "Iran, United Kingdom              1\n",
       "Germany                           1\n",
       "Czech Republic                    1\n",
       "Burma                             1\n",
       "Kenya                             1\n",
       "Name: count, dtype: int64"
      ]
     },
     "execution_count": 39,
     "metadata": {},
     "output_type": "execute_result"
    }
   ],
   "source": [
    "df3['Country'].value_counts()"
   ]
  },
  {
   "cell_type": "code",
   "execution_count": 40,
   "id": "97485826-fd45-4226-ac58-b93ca72546ba",
   "metadata": {},
   "outputs": [
    {
     "data": {
      "text/plain": [
       "Category\n",
       "Peace                     17\n",
       "Literature                15\n",
       "Physiology or Medicine    12\n",
       "Chemistry                  5\n",
       "Physics                    3\n",
       "Economics                  2\n",
       "Name: count, dtype: int64"
      ]
     },
     "execution_count": 40,
     "metadata": {},
     "output_type": "execute_result"
    }
   ],
   "source": [
    "df3['Category'].value_counts()"
   ]
  },
  {
   "cell_type": "code",
   "execution_count": 41,
   "id": "3485b559-e647-4103-8a0e-6b399a40de29",
   "metadata": {},
   "outputs": [
    {
     "data": {
      "text/plain": [
       "Description\n",
       "\"For their non-violent struggle for the safety of women and for women's rights to full participation in peace-building work\"                                                             3\n",
       "\"Founder of the Northern Ireland Peace Movement (later renamed Community of Peace People)\"                                                                                               2\n",
       "\"For the discovery of how chromosomes are protected by telomeres and the enzyme telomerase\"                                                                                              2\n",
       "\"For studies of the structure and function of the ribosome\"                                                                                                                              1\n",
       "\"For their discoveries concerning nuclear shell structure\"                                                                                                                               1\n",
       "\"In recognition of the extraordinary services they have rendered by their joint researches on the radiation phenomena discovered by Professor Henri Becquerel\"                           1\n",
       "\"For her discovery of radium and polonium\"                                                                                                                                               1\n",
       "\"For their discoveries of cells that constitute a positioning system in the brain\"                                                                                                       1\n",
       "\"Leader of Missionaries of Charity, Calcutta.\"                                                                                                                                           1\n",
       "\"For their efforts to end the use of sexual violence as a weapon of war and armed conflict\"                                                                                              1\n",
       "\"Who through her magnificent epic writing has - in the words of Alfred Nobel - been of very great benefit to humanity\"                                                                   1\n",
       "\"For her outstanding lyrical and dramatic writing, which interprets Israel's destiny with touching strength\"                                                                             1\n",
       "“For a narrative imagination that with encyclopedic passion represents the crossing of boundaries as a form of life”                                                                     1\n",
       "\"For her rich and truly epic descriptions of peasant life in China and for her biographical masterpieces\"                                                                                1\n",
       "\"In recognition of her work for social justice and ethno-cultural reconciliation based on respect for the rights of indigenous peoples\"                                                  1\n",
       "\"For their discoveries of odorant receptors and the organization of the olfactory system\"                                                                                                1\n",
       "\"For their discoveries of growth factors\"                                                                                                                                                1\n",
       "\"For the development of radioimmunoassays of peptide hormones\"                                                                                                                           1\n",
       "\"In appreciation of the lofty idealism, vivid imagination and spiritual perception that characterize her writings\"                                                                       1\n",
       "\"For her efforts for democracy and human rights. She has focused especially on the struggle for the rights of women and children\"                                                        1\n",
       "\"Principally for her powerful descriptions of Northern life during the Middle Ages\"                                                                                                      1\n",
       "\"For her polyphonic writings, a monument to suffering and courage in our time\"                                                                                                           1\n",
       "\"Who in novels characterized by visionary force and poetic import, gives life to an essential aspect of American reality\"                                                                1\n",
       "\"For her discoveries concerning a novel therapy against Malaria (artemisinin)\"                                                                                                           1\n",
       "\"For her contribution to sustainable development, democracy and peace\"                                                                                                                   1\n",
       "\"For their struggle against the suppression of children and young people and for the right of all children to education\".                                                                1\n",
       "\"Sociologist; International President, Women's International League for Peace and Freedom.                                                                                               1\n",
       "\"For their work for the banning and clearing of anti-personnel mines\"                                                                                                                    1\n",
       "\"For her analysis of economic governance, especially the commons\"                                                                                                                        1\n",
       "\"Former Cabinet Minister; Diplomat; Writer.\"                                                                                                                                             1\n",
       "\"For her non-violent struggle for democracy and human rights\"                                                                                                                            1\n",
       "\"For her discovery of mobile genetic elements\"                                                                                                                                           1\n",
       "\"Honorary President of Permanent International Peace Bureau, Bern, Switzerland; Author of \"Lay Down Your Arms\".\"                                                                         1\n",
       "\"For their discoveries concerning the genetic control of early embryonic development\"                                                                                                    1\n",
       "\"For their method of generating high-intensity, ultra-short optical pulses\"                                                                                                              1\n",
       "\"That epicist of the female experience, who with scepticism, fire and visionary power has subjected a divided civilisation to scrutiny\"                                                  1\n",
       "\"For her determinations by X-ray techniques of the structures of important biochemical substances\"                                                                                       1\n",
       "\"For her musical flow of voices and counter-voices in novels and plays that with extraordinary linguistic zeal reveal the absurdity of society's clichés and their subjugating power\"    1\n",
       "\"Formerly Professor of History and Sociology; Honorary International President, Women's International League for Peace and Freedom.\"                                                     1\n",
       "\"Master of the contemporary short story\"                                                                                                                                                 1\n",
       "\"For their experimental approach to alleviating global poverty\"                                                                                                                          1\n",
       "\"For the directed evolution of enzymes\"                                                                                                                                                  1\n",
       "\"For their discovery of HIV, human immunodeficiency virus\"                                                                                                                               1\n",
       "\"For her lyric poetry which, inspired by powerful emotions, has made her name a symbol of the idealistic aspirations of the entire Latin American world\"                                 1\n",
       "\"For their discoveries of important principles for drug treatment\"                                                                                                                       1\n",
       "\"For their discovery of the course of the catalytic conversion of glycogen\"                                                                                                              1\n",
       "\"For her idealistically inspired writings which with plastic clarity picture the life on her native island and with depth and sympathy deal with human problems in general\"              1\n",
       "\"Who, with the concentration of poetry and the frankness of prose, depicts the landscape of the dispossessed\"                                                                            1\n",
       "\"For their synthesis of new radioactive elements\"                                                                                                                                        1\n",
       "\"For poetry that with ironic precision allows the historical and biological context to come to light in fragments of human reality\"                                                      1\n",
       "Name: count, dtype: int64"
      ]
     },
     "execution_count": 41,
     "metadata": {},
     "output_type": "execute_result"
    }
   ],
   "source": [
    "df3['Description'].value_counts()"
   ]
  },
  {
   "cell_type": "code",
   "execution_count": 42,
   "id": "ecf0ce81-d974-4a21-9327-e4923175d275",
   "metadata": {},
   "outputs": [
    {
     "data": {
      "text/plain": [
       "Details\n",
       "Born in North Ireland, part of the UK                                 2\n",
       "Born in Congress Poland, worked in France                             2\n",
       "Born in the Austrian Empire, now Czech Republic                       1\n",
       "Born in Iran, worked in the UK                                        1\n",
       "0                                                                     1\n",
       "Born in Australia, worked in the US                                   1\n",
       "Born in France, worked in the US                                      1\n",
       "Born in the Austrian Empire (now Czech Republic), worked in the US    1\n",
       "Born in Romania, worked in Germany                                    1\n",
       "Born in then Germany,  worked in the US                               1\n",
       "Born in then Ottoman Empire (now North Macedonia), worked in India    1\n",
       "Born in Germany, worked in Sweden                                     1\n",
       "Born in Italy, worked in the US                                       1\n",
       "Born in Ukraine, worked in Belarus                                    1\n",
       "Name: count, dtype: int64"
      ]
     },
     "execution_count": 42,
     "metadata": {},
     "output_type": "execute_result"
    }
   ],
   "source": [
    "df3['Details'].value_counts()"
   ]
  },
  {
   "cell_type": "code",
   "execution_count": 43,
   "id": "d85f28ab-05bf-497d-b128-b9da18b8148d",
   "metadata": {},
   "outputs": [
    {
     "data": {
      "text/plain": [
       "Shares\n",
       "(shared with Jack W. Szostak)                                  2\n",
       "(shared with Pierre Curie and Henri Becquerel)                 1\n",
       "(shared with Richard Axel)                                     1\n",
       "(shared with Denis Mukwege)                                    1\n",
       "(shared with Gregory Winter and George Smith)                  1\n",
       "(shared with Gérard Mourou and Arthur Ashkin)                  1\n",
       "(shared with William C. Campbell and Satoshi Ōmura)            1\n",
       "(shared with Kailash Satyarthi)                                1\n",
       "(shared with Edvard Moser and John O'Keefe)                    1\n",
       "(shared with Oliver E. Williamson)                             1\n",
       "(shared with Venkatraman Ramakrishnan and Thomas A. Steitz)    1\n",
       "(shared with Harald zur Hausen and Luc Montagnier)             1\n",
       "(shared with the International Campaign to Ban Landmines)      1\n",
       "(shared with Nicholas Murray Butler)                           1\n",
       "(shared with Edward B. Lewis and Eric F. Wieschaus)            1\n",
       "(shared with James W. Black and George H. Hitchings)           1\n",
       "(shared with Stanley Cohen)                                    1\n",
       "(shared with Alfonso García Robles)                            1\n",
       "(shared with Roger Guillemin and Andrew Schally)               1\n",
       "(shared with Samuel Agnon)                                     1\n",
       "(shared with J. Hans D. Jensen and Eugene Wigner)              1\n",
       "(shared with Carl Ferdinand Cori and Bernardo Houssay)         1\n",
       "(shared with John Raleigh Mott)                                1\n",
       "(shared with Frédéric Joliot-Curie)                            1\n",
       "(shared with Abhijit Banerjee and Michael Kremer)              1\n",
       "Name: count, dtype: int64"
      ]
     },
     "execution_count": 43,
     "metadata": {},
     "output_type": "execute_result"
    }
   ],
   "source": [
    "df3['Shares'].value_counts()"
   ]
  },
  {
   "cell_type": "markdown",
   "id": "83497d17-bfcc-4150-b49c-854ea044b0f8",
   "metadata": {},
   "source": [
    "- Dataset has 54 rowns and 7 columns\n",
    "- The numeric variables are: Year\n",
    "- The categorical variables are: Name, Category, Country, Gender, Description, Details and Shares\n",
    "- The are missing values for Details and Shares\n",
    "- No duplicated values"
   ]
  },
  {
   "cell_type": "markdown",
   "id": "8d460f2a-58ea-4e83-99db-338317834986",
   "metadata": {},
   "source": [
    "## Merging datasets"
   ]
  },
  {
   "cell_type": "code",
   "execution_count": 44,
   "id": "230fbcd4-f5ff-4317-b568-73f5bddd1fe7",
   "metadata": {},
   "outputs": [
    {
     "data": {
      "text/html": [
       "<div>\n",
       "<style scoped>\n",
       "    .dataframe tbody tr th:only-of-type {\n",
       "        vertical-align: middle;\n",
       "    }\n",
       "\n",
       "    .dataframe tbody tr th {\n",
       "        vertical-align: top;\n",
       "    }\n",
       "\n",
       "    .dataframe thead th {\n",
       "        text-align: right;\n",
       "    }\n",
       "</style>\n",
       "<table border=\"1\" class=\"dataframe\">\n",
       "  <thead>\n",
       "    <tr style=\"text-align: right;\">\n",
       "      <th></th>\n",
       "      <th>Name</th>\n",
       "      <th>Year</th>\n",
       "      <th>Country</th>\n",
       "      <th>Countries_x</th>\n",
       "      <th>Category</th>\n",
       "      <th>Gender</th>\n",
       "      <th>Details_x</th>\n",
       "      <th>Countries_y</th>\n",
       "      <th>Description</th>\n",
       "      <th>Details_y</th>\n",
       "      <th>_merge</th>\n",
       "    </tr>\n",
       "  </thead>\n",
       "  <tbody>\n",
       "    <tr>\n",
       "      <th>0</th>\n",
       "      <td>14th Dalai Lama</td>\n",
       "      <td>1989</td>\n",
       "      <td>Tibet</td>\n",
       "      <td>Tibet</td>\n",
       "      <td>Peace</td>\n",
       "      <td>Man</td>\n",
       "      <td>born in Tibet</td>\n",
       "      <td>NaN</td>\n",
       "      <td>NaN</td>\n",
       "      <td>NaN</td>\n",
       "      <td>left_only</td>\n",
       "    </tr>\n",
       "    <tr>\n",
       "      <th>1</th>\n",
       "      <td>A. Michael Spence</td>\n",
       "      <td>2001</td>\n",
       "      <td>United States</td>\n",
       "      <td>United States</td>\n",
       "      <td>Economics</td>\n",
       "      <td>Man</td>\n",
       "      <td>NaN</td>\n",
       "      <td>NaN</td>\n",
       "      <td>NaN</td>\n",
       "      <td>NaN</td>\n",
       "      <td>left_only</td>\n",
       "    </tr>\n",
       "    <tr>\n",
       "      <th>2</th>\n",
       "      <td>Aage Bohr</td>\n",
       "      <td>1975</td>\n",
       "      <td>Denmark</td>\n",
       "      <td>Denmark</td>\n",
       "      <td>Physics</td>\n",
       "      <td>Man</td>\n",
       "      <td>NaN</td>\n",
       "      <td>Denmark</td>\n",
       "      <td>NaN</td>\n",
       "      <td>NaN</td>\n",
       "      <td>both</td>\n",
       "    </tr>\n",
       "    <tr>\n",
       "      <th>3</th>\n",
       "      <td>Aaron Ciechanover</td>\n",
       "      <td>2004</td>\n",
       "      <td>Israel</td>\n",
       "      <td>Israel</td>\n",
       "      <td>Chemistry</td>\n",
       "      <td>Man</td>\n",
       "      <td>NaN</td>\n",
       "      <td>Israel</td>\n",
       "      <td>NaN</td>\n",
       "      <td>NaN</td>\n",
       "      <td>both</td>\n",
       "    </tr>\n",
       "    <tr>\n",
       "      <th>4</th>\n",
       "      <td>Aaron Klug</td>\n",
       "      <td>1982</td>\n",
       "      <td>Lithuania</td>\n",
       "      <td>Lithuania</td>\n",
       "      <td>Chemistry</td>\n",
       "      <td>Man</td>\n",
       "      <td>NaN</td>\n",
       "      <td>Lithuania, South Africa, United Kingdom</td>\n",
       "      <td>NaN</td>\n",
       "      <td>NaN</td>\n",
       "      <td>both</td>\n",
       "    </tr>\n",
       "  </tbody>\n",
       "</table>\n",
       "</div>"
      ],
      "text/plain": [
       "                Name  Year        Country    Countries_x   Category Gender  \\\n",
       "0    14th Dalai Lama  1989          Tibet          Tibet      Peace    Man   \n",
       "1  A. Michael Spence  2001  United States  United States  Economics    Man   \n",
       "2          Aage Bohr  1975        Denmark        Denmark    Physics    Man   \n",
       "3  Aaron Ciechanover  2004         Israel         Israel  Chemistry    Man   \n",
       "4         Aaron Klug  1982      Lithuania      Lithuania  Chemistry    Man   \n",
       "\n",
       "        Details_x                              Countries_y Description  \\\n",
       "0   born in Tibet                                      NaN         NaN   \n",
       "1             NaN                                      NaN         NaN   \n",
       "2             NaN                                  Denmark         NaN   \n",
       "3             NaN                                   Israel         NaN   \n",
       "4             NaN  Lithuania, South Africa, United Kingdom         NaN   \n",
       "\n",
       "  Details_y     _merge  \n",
       "0       NaN  left_only  \n",
       "1       NaN  left_only  \n",
       "2       NaN       both  \n",
       "3       NaN       both  \n",
       "4       NaN       both  "
      ]
     },
     "execution_count": 44,
     "metadata": {},
     "output_type": "execute_result"
    }
   ],
   "source": [
    "df_aux = df2.merge(df1, how='left', on = ['Name','Year','Category','Gender'], indicator=True)\n",
    "df_aux.head()"
   ]
  },
  {
   "cell_type": "code",
   "execution_count": 45,
   "id": "1aeee1b5-e2c3-4ed0-bb7b-bb90b151adbf",
   "metadata": {},
   "outputs": [
    {
     "data": {
      "text/plain": [
       "_merge\n",
       "both          941\n",
       "left_only     201\n",
       "right_only      0\n",
       "Name: count, dtype: int64"
      ]
     },
     "execution_count": 45,
     "metadata": {},
     "output_type": "execute_result"
    }
   ],
   "source": [
    "df_aux['_merge'].value_counts()"
   ]
  },
  {
   "cell_type": "code",
   "execution_count": 46,
   "id": "80cd786c-a0bd-427c-9338-d61bbdb5a941",
   "metadata": {},
   "outputs": [
    {
     "data": {
      "text/html": [
       "<div>\n",
       "<style scoped>\n",
       "    .dataframe tbody tr th:only-of-type {\n",
       "        vertical-align: middle;\n",
       "    }\n",
       "\n",
       "    .dataframe tbody tr th {\n",
       "        vertical-align: top;\n",
       "    }\n",
       "\n",
       "    .dataframe thead th {\n",
       "        text-align: right;\n",
       "    }\n",
       "</style>\n",
       "<table border=\"1\" class=\"dataframe\">\n",
       "  <thead>\n",
       "    <tr style=\"text-align: right;\">\n",
       "      <th></th>\n",
       "      <th>Name</th>\n",
       "      <th>Year</th>\n",
       "      <th>Country</th>\n",
       "      <th>Countries_x</th>\n",
       "      <th>Category</th>\n",
       "      <th>Gender</th>\n",
       "      <th>Details_x</th>\n",
       "      <th>Countries_y</th>\n",
       "      <th>Description</th>\n",
       "      <th>Details_y</th>\n",
       "      <th>_merge</th>\n",
       "    </tr>\n",
       "  </thead>\n",
       "  <tbody>\n",
       "    <tr>\n",
       "      <th>0</th>\n",
       "      <td>14th Dalai Lama</td>\n",
       "      <td>1989</td>\n",
       "      <td>Tibet</td>\n",
       "      <td>Tibet</td>\n",
       "      <td>Peace</td>\n",
       "      <td>Man</td>\n",
       "      <td>born in Tibet</td>\n",
       "      <td>NaN</td>\n",
       "      <td>NaN</td>\n",
       "      <td>NaN</td>\n",
       "      <td>left_only</td>\n",
       "    </tr>\n",
       "    <tr>\n",
       "      <th>1</th>\n",
       "      <td>A. Michael Spence</td>\n",
       "      <td>2001</td>\n",
       "      <td>United States</td>\n",
       "      <td>United States</td>\n",
       "      <td>Economics</td>\n",
       "      <td>Man</td>\n",
       "      <td>NaN</td>\n",
       "      <td>NaN</td>\n",
       "      <td>NaN</td>\n",
       "      <td>NaN</td>\n",
       "      <td>left_only</td>\n",
       "    </tr>\n",
       "    <tr>\n",
       "      <th>10</th>\n",
       "      <td>Abiy Ahmed Ali</td>\n",
       "      <td>2019</td>\n",
       "      <td>Ethiopia</td>\n",
       "      <td>Ethiopia</td>\n",
       "      <td>Peace</td>\n",
       "      <td>Man</td>\n",
       "      <td>NaN</td>\n",
       "      <td>NaN</td>\n",
       "      <td>NaN</td>\n",
       "      <td>NaN</td>\n",
       "      <td>left_only</td>\n",
       "    </tr>\n",
       "    <tr>\n",
       "      <th>17</th>\n",
       "      <td>Ahmed H. Zewail</td>\n",
       "      <td>1999</td>\n",
       "      <td>United States</td>\n",
       "      <td>United States</td>\n",
       "      <td>Chemistry</td>\n",
       "      <td>Man</td>\n",
       "      <td>born in Egypt</td>\n",
       "      <td>NaN</td>\n",
       "      <td>NaN</td>\n",
       "      <td>NaN</td>\n",
       "      <td>left_only</td>\n",
       "    </tr>\n",
       "    <tr>\n",
       "      <th>22</th>\n",
       "      <td>Alan Heeger</td>\n",
       "      <td>2000</td>\n",
       "      <td>United States</td>\n",
       "      <td>United States</td>\n",
       "      <td>Chemistry</td>\n",
       "      <td>Man</td>\n",
       "      <td>NaN</td>\n",
       "      <td>NaN</td>\n",
       "      <td>NaN</td>\n",
       "      <td>NaN</td>\n",
       "      <td>left_only</td>\n",
       "    </tr>\n",
       "    <tr>\n",
       "      <th>...</th>\n",
       "      <td>...</td>\n",
       "      <td>...</td>\n",
       "      <td>...</td>\n",
       "      <td>...</td>\n",
       "      <td>...</td>\n",
       "      <td>...</td>\n",
       "      <td>...</td>\n",
       "      <td>...</td>\n",
       "      <td>...</td>\n",
       "      <td>...</td>\n",
       "      <td>...</td>\n",
       "    </tr>\n",
       "    <tr>\n",
       "      <th>1107</th>\n",
       "      <td>William H. Stein</td>\n",
       "      <td>1972</td>\n",
       "      <td>United States</td>\n",
       "      <td>United States</td>\n",
       "      <td>Chemistry</td>\n",
       "      <td>Man</td>\n",
       "      <td>NaN</td>\n",
       "      <td>NaN</td>\n",
       "      <td>NaN</td>\n",
       "      <td>NaN</td>\n",
       "      <td>left_only</td>\n",
       "    </tr>\n",
       "    <tr>\n",
       "      <th>1113</th>\n",
       "      <td>William Nordhaus</td>\n",
       "      <td>2018</td>\n",
       "      <td>United States</td>\n",
       "      <td>United States</td>\n",
       "      <td>Economics</td>\n",
       "      <td>Man</td>\n",
       "      <td>NaN</td>\n",
       "      <td>NaN</td>\n",
       "      <td>NaN</td>\n",
       "      <td>NaN</td>\n",
       "      <td>left_only</td>\n",
       "    </tr>\n",
       "    <tr>\n",
       "      <th>1116</th>\n",
       "      <td>William Randal Cremer</td>\n",
       "      <td>1903</td>\n",
       "      <td>United Kingdom</td>\n",
       "      <td>United Kingdom</td>\n",
       "      <td>Peace</td>\n",
       "      <td>Man</td>\n",
       "      <td>NaN</td>\n",
       "      <td>NaN</td>\n",
       "      <td>NaN</td>\n",
       "      <td>NaN</td>\n",
       "      <td>left_only</td>\n",
       "    </tr>\n",
       "    <tr>\n",
       "      <th>1117</th>\n",
       "      <td>William S. Knowles</td>\n",
       "      <td>2001</td>\n",
       "      <td>United States</td>\n",
       "      <td>United States</td>\n",
       "      <td>Chemistry</td>\n",
       "      <td>Man</td>\n",
       "      <td>NaN</td>\n",
       "      <td>NaN</td>\n",
       "      <td>NaN</td>\n",
       "      <td>NaN</td>\n",
       "      <td>left_only</td>\n",
       "    </tr>\n",
       "    <tr>\n",
       "      <th>1120</th>\n",
       "      <td>Willis E. Lamb</td>\n",
       "      <td>1955</td>\n",
       "      <td>United States</td>\n",
       "      <td>United States</td>\n",
       "      <td>Physics</td>\n",
       "      <td>Man</td>\n",
       "      <td>NaN</td>\n",
       "      <td>NaN</td>\n",
       "      <td>NaN</td>\n",
       "      <td>NaN</td>\n",
       "      <td>left_only</td>\n",
       "    </tr>\n",
       "  </tbody>\n",
       "</table>\n",
       "<p>201 rows × 11 columns</p>\n",
       "</div>"
      ],
      "text/plain": [
       "                       Name  Year         Country     Countries_x   Category  \\\n",
       "0           14th Dalai Lama  1989           Tibet           Tibet      Peace   \n",
       "1         A. Michael Spence  2001   United States   United States  Economics   \n",
       "10           Abiy Ahmed Ali  2019        Ethiopia        Ethiopia      Peace   \n",
       "17          Ahmed H. Zewail  1999   United States   United States  Chemistry   \n",
       "22              Alan Heeger  2000   United States   United States  Chemistry   \n",
       "...                     ...   ...             ...             ...        ...   \n",
       "1107       William H. Stein  1972   United States   United States  Chemistry   \n",
       "1113       William Nordhaus  2018   United States   United States  Economics   \n",
       "1116  William Randal Cremer  1903  United Kingdom  United Kingdom      Peace   \n",
       "1117     William S. Knowles  2001   United States   United States  Chemistry   \n",
       "1120         Willis E. Lamb  1955   United States   United States    Physics   \n",
       "\n",
       "     Gender       Details_x Countries_y Description Details_y     _merge  \n",
       "0       Man   born in Tibet         NaN         NaN       NaN  left_only  \n",
       "1       Man             NaN         NaN         NaN       NaN  left_only  \n",
       "10      Man             NaN         NaN         NaN       NaN  left_only  \n",
       "17      Man   born in Egypt         NaN         NaN       NaN  left_only  \n",
       "22      Man             NaN         NaN         NaN       NaN  left_only  \n",
       "...     ...             ...         ...         ...       ...        ...  \n",
       "1107    Man             NaN         NaN         NaN       NaN  left_only  \n",
       "1113    Man             NaN         NaN         NaN       NaN  left_only  \n",
       "1116    Man             NaN         NaN         NaN       NaN  left_only  \n",
       "1117    Man             NaN         NaN         NaN       NaN  left_only  \n",
       "1120    Man             NaN         NaN         NaN       NaN  left_only  \n",
       "\n",
       "[201 rows x 11 columns]"
      ]
     },
     "execution_count": 46,
     "metadata": {},
     "output_type": "execute_result"
    }
   ],
   "source": [
    "df_aux[df_aux['_merge'] == 'left_only']"
   ]
  },
  {
   "cell_type": "code",
   "execution_count": 47,
   "id": "80707b9a-40ae-4a3f-8ebd-cbcd1fe669db",
   "metadata": {},
   "outputs": [
    {
     "data": {
      "text/plain": [
       "Gender\n",
       "Man             200\n",
       "Organization      1\n",
       "Name: count, dtype: int64"
      ]
     },
     "execution_count": 47,
     "metadata": {},
     "output_type": "execute_result"
    }
   ],
   "source": [
    "df_aux[df_aux['_merge'] == 'left_only']['Gender'].value_counts()"
   ]
  },
  {
   "cell_type": "code",
   "execution_count": 48,
   "id": "7d04edc4-7d33-40da-9587-9a96860a3134",
   "metadata": {},
   "outputs": [
    {
     "data": {
      "text/plain": [
       "Name\n",
       "Charles B. Huggins    2\n",
       "Anthony J. Leggett    2\n",
       "Selman A. Waksman     2\n",
       "Hans G. Dehmelt       2\n",
       "Tadeusz Reichstein    2\n",
       "                     ..\n",
       "H. David Politzer     1\n",
       "Harold C. Urey        1\n",
       "Harold Kroto          1\n",
       "Harry M. Markowitz    1\n",
       "Willis E. Lamb        1\n",
       "Name: count, Length: 183, dtype: int64"
      ]
     },
     "execution_count": 48,
     "metadata": {},
     "output_type": "execute_result"
    }
   ],
   "source": [
    "df_aux[df_aux['_merge'] == 'left_only']['Name'].value_counts() "
   ]
  },
  {
   "cell_type": "code",
   "execution_count": 49,
   "id": "41a3b6fd-d358-40c6-bb5d-85ea2eb39f89",
   "metadata": {},
   "outputs": [
    {
     "data": {
      "text/html": [
       "<div>\n",
       "<style scoped>\n",
       "    .dataframe tbody tr th:only-of-type {\n",
       "        vertical-align: middle;\n",
       "    }\n",
       "\n",
       "    .dataframe tbody tr th {\n",
       "        vertical-align: top;\n",
       "    }\n",
       "\n",
       "    .dataframe thead th {\n",
       "        text-align: right;\n",
       "    }\n",
       "</style>\n",
       "<table border=\"1\" class=\"dataframe\">\n",
       "  <thead>\n",
       "    <tr style=\"text-align: right;\">\n",
       "      <th></th>\n",
       "      <th>Name</th>\n",
       "      <th>Year</th>\n",
       "      <th>Category</th>\n",
       "      <th>Countries</th>\n",
       "      <th>Gender</th>\n",
       "      <th>Description</th>\n",
       "      <th>Details</th>\n",
       "    </tr>\n",
       "  </thead>\n",
       "  <tbody>\n",
       "  </tbody>\n",
       "</table>\n",
       "</div>"
      ],
      "text/plain": [
       "Empty DataFrame\n",
       "Columns: [Name, Year, Category, Countries, Gender, Description, Details]\n",
       "Index: []"
      ]
     },
     "execution_count": 49,
     "metadata": {},
     "output_type": "execute_result"
    }
   ],
   "source": [
    "df1[df1['Name'] == 'Charles B. Huggins']"
   ]
  },
  {
   "cell_type": "code",
   "execution_count": 50,
   "id": "b6d75e4f-3603-4bcc-a235-6e16c5845701",
   "metadata": {},
   "outputs": [
    {
     "data": {
      "text/html": [
       "<div>\n",
       "<style scoped>\n",
       "    .dataframe tbody tr th:only-of-type {\n",
       "        vertical-align: middle;\n",
       "    }\n",
       "\n",
       "    .dataframe tbody tr th {\n",
       "        vertical-align: top;\n",
       "    }\n",
       "\n",
       "    .dataframe thead th {\n",
       "        text-align: right;\n",
       "    }\n",
       "</style>\n",
       "<table border=\"1\" class=\"dataframe\">\n",
       "  <thead>\n",
       "    <tr style=\"text-align: right;\">\n",
       "      <th></th>\n",
       "      <th>Name</th>\n",
       "      <th>Year</th>\n",
       "      <th>Country</th>\n",
       "      <th>Countries</th>\n",
       "      <th>Category</th>\n",
       "      <th>Gender</th>\n",
       "      <th>Details</th>\n",
       "    </tr>\n",
       "  </thead>\n",
       "  <tbody>\n",
       "    <tr>\n",
       "      <th>158</th>\n",
       "      <td>Charles B. Huggins</td>\n",
       "      <td>1966</td>\n",
       "      <td>Canada</td>\n",
       "      <td>Canada</td>\n",
       "      <td>Physiology or Medicine</td>\n",
       "      <td>Man</td>\n",
       "      <td>NaN</td>\n",
       "    </tr>\n",
       "    <tr>\n",
       "      <th>159</th>\n",
       "      <td>Charles B. Huggins</td>\n",
       "      <td>1966</td>\n",
       "      <td>United States</td>\n",
       "      <td>Canada, United States</td>\n",
       "      <td>Physiology or Medicine</td>\n",
       "      <td>Man</td>\n",
       "      <td>born in Canada</td>\n",
       "    </tr>\n",
       "  </tbody>\n",
       "</table>\n",
       "</div>"
      ],
      "text/plain": [
       "                   Name  Year        Country              Countries  \\\n",
       "158  Charles B. Huggins  1966         Canada                 Canada   \n",
       "159  Charles B. Huggins  1966  United States  Canada, United States   \n",
       "\n",
       "                   Category Gender          Details  \n",
       "158  Physiology or Medicine    Man              NaN  \n",
       "159  Physiology or Medicine    Man   born in Canada  "
      ]
     },
     "execution_count": 50,
     "metadata": {},
     "output_type": "execute_result"
    }
   ],
   "source": [
    "df2[df2['Name'] == 'Charles B. Huggins']"
   ]
  },
  {
   "cell_type": "code",
   "execution_count": 51,
   "id": "dfb9f809-3b34-4000-a83f-8c132546efca",
   "metadata": {},
   "outputs": [],
   "source": [
    "df_aux.rename(columns={'_merge':'_merge1'},inplace=True)"
   ]
  },
  {
   "cell_type": "code",
   "execution_count": 52,
   "id": "61517a03-5015-4b79-b0fd-323b80d83e4c",
   "metadata": {},
   "outputs": [
    {
     "data": {
      "text/html": [
       "<div>\n",
       "<style scoped>\n",
       "    .dataframe tbody tr th:only-of-type {\n",
       "        vertical-align: middle;\n",
       "    }\n",
       "\n",
       "    .dataframe tbody tr th {\n",
       "        vertical-align: top;\n",
       "    }\n",
       "\n",
       "    .dataframe thead th {\n",
       "        text-align: right;\n",
       "    }\n",
       "</style>\n",
       "<table border=\"1\" class=\"dataframe\">\n",
       "  <thead>\n",
       "    <tr style=\"text-align: right;\">\n",
       "      <th></th>\n",
       "      <th>Name</th>\n",
       "      <th>Year</th>\n",
       "      <th>Country_x</th>\n",
       "      <th>Countries_x</th>\n",
       "      <th>Category</th>\n",
       "      <th>Gender</th>\n",
       "      <th>Details_x</th>\n",
       "      <th>Countries_y</th>\n",
       "      <th>Description_x</th>\n",
       "      <th>Details_y</th>\n",
       "      <th>_merge1</th>\n",
       "      <th>Country_y</th>\n",
       "      <th>Description_y</th>\n",
       "      <th>Details</th>\n",
       "      <th>Shares</th>\n",
       "      <th>_merge</th>\n",
       "    </tr>\n",
       "  </thead>\n",
       "  <tbody>\n",
       "    <tr>\n",
       "      <th>0</th>\n",
       "      <td>14th Dalai Lama</td>\n",
       "      <td>1989</td>\n",
       "      <td>Tibet</td>\n",
       "      <td>Tibet</td>\n",
       "      <td>Peace</td>\n",
       "      <td>Man</td>\n",
       "      <td>born in Tibet</td>\n",
       "      <td>NaN</td>\n",
       "      <td>NaN</td>\n",
       "      <td>NaN</td>\n",
       "      <td>left_only</td>\n",
       "      <td>NaN</td>\n",
       "      <td>NaN</td>\n",
       "      <td>NaN</td>\n",
       "      <td>NaN</td>\n",
       "      <td>left_only</td>\n",
       "    </tr>\n",
       "    <tr>\n",
       "      <th>1</th>\n",
       "      <td>A. Michael Spence</td>\n",
       "      <td>2001</td>\n",
       "      <td>United States</td>\n",
       "      <td>United States</td>\n",
       "      <td>Economics</td>\n",
       "      <td>Man</td>\n",
       "      <td>NaN</td>\n",
       "      <td>NaN</td>\n",
       "      <td>NaN</td>\n",
       "      <td>NaN</td>\n",
       "      <td>left_only</td>\n",
       "      <td>NaN</td>\n",
       "      <td>NaN</td>\n",
       "      <td>NaN</td>\n",
       "      <td>NaN</td>\n",
       "      <td>left_only</td>\n",
       "    </tr>\n",
       "    <tr>\n",
       "      <th>2</th>\n",
       "      <td>Aage Bohr</td>\n",
       "      <td>1975</td>\n",
       "      <td>Denmark</td>\n",
       "      <td>Denmark</td>\n",
       "      <td>Physics</td>\n",
       "      <td>Man</td>\n",
       "      <td>NaN</td>\n",
       "      <td>Denmark</td>\n",
       "      <td>NaN</td>\n",
       "      <td>NaN</td>\n",
       "      <td>both</td>\n",
       "      <td>NaN</td>\n",
       "      <td>NaN</td>\n",
       "      <td>NaN</td>\n",
       "      <td>NaN</td>\n",
       "      <td>left_only</td>\n",
       "    </tr>\n",
       "    <tr>\n",
       "      <th>3</th>\n",
       "      <td>Aaron Ciechanover</td>\n",
       "      <td>2004</td>\n",
       "      <td>Israel</td>\n",
       "      <td>Israel</td>\n",
       "      <td>Chemistry</td>\n",
       "      <td>Man</td>\n",
       "      <td>NaN</td>\n",
       "      <td>Israel</td>\n",
       "      <td>NaN</td>\n",
       "      <td>NaN</td>\n",
       "      <td>both</td>\n",
       "      <td>NaN</td>\n",
       "      <td>NaN</td>\n",
       "      <td>NaN</td>\n",
       "      <td>NaN</td>\n",
       "      <td>left_only</td>\n",
       "    </tr>\n",
       "    <tr>\n",
       "      <th>4</th>\n",
       "      <td>Aaron Klug</td>\n",
       "      <td>1982</td>\n",
       "      <td>Lithuania</td>\n",
       "      <td>Lithuania</td>\n",
       "      <td>Chemistry</td>\n",
       "      <td>Man</td>\n",
       "      <td>NaN</td>\n",
       "      <td>Lithuania, South Africa, United Kingdom</td>\n",
       "      <td>NaN</td>\n",
       "      <td>NaN</td>\n",
       "      <td>both</td>\n",
       "      <td>NaN</td>\n",
       "      <td>NaN</td>\n",
       "      <td>NaN</td>\n",
       "      <td>NaN</td>\n",
       "      <td>left_only</td>\n",
       "    </tr>\n",
       "  </tbody>\n",
       "</table>\n",
       "</div>"
      ],
      "text/plain": [
       "                Name  Year      Country_x    Countries_x   Category Gender  \\\n",
       "0    14th Dalai Lama  1989          Tibet          Tibet      Peace    Man   \n",
       "1  A. Michael Spence  2001  United States  United States  Economics    Man   \n",
       "2          Aage Bohr  1975        Denmark        Denmark    Physics    Man   \n",
       "3  Aaron Ciechanover  2004         Israel         Israel  Chemistry    Man   \n",
       "4         Aaron Klug  1982      Lithuania      Lithuania  Chemistry    Man   \n",
       "\n",
       "        Details_x                              Countries_y Description_x  \\\n",
       "0   born in Tibet                                      NaN           NaN   \n",
       "1             NaN                                      NaN           NaN   \n",
       "2             NaN                                  Denmark           NaN   \n",
       "3             NaN                                   Israel           NaN   \n",
       "4             NaN  Lithuania, South Africa, United Kingdom           NaN   \n",
       "\n",
       "  Details_y    _merge1 Country_y Description_y Details Shares     _merge  \n",
       "0       NaN  left_only       NaN           NaN     NaN    NaN  left_only  \n",
       "1       NaN  left_only       NaN           NaN     NaN    NaN  left_only  \n",
       "2       NaN       both       NaN           NaN     NaN    NaN  left_only  \n",
       "3       NaN       both       NaN           NaN     NaN    NaN  left_only  \n",
       "4       NaN       both       NaN           NaN     NaN    NaN  left_only  "
      ]
     },
     "execution_count": 52,
     "metadata": {},
     "output_type": "execute_result"
    }
   ],
   "source": [
    "df = df_aux.merge(df3, how='left', on = ['Name','Year','Category'], indicator=True)\n",
    "df.head()"
   ]
  },
  {
   "cell_type": "code",
   "execution_count": 53,
   "id": "33957f93-3677-42f3-9a50-f1edb6fccbc2",
   "metadata": {},
   "outputs": [
    {
     "data": {
      "text/plain": [
       "_merge\n",
       "left_only     1074\n",
       "both            68\n",
       "right_only       0\n",
       "Name: count, dtype: int64"
      ]
     },
     "execution_count": 53,
     "metadata": {},
     "output_type": "execute_result"
    }
   ],
   "source": [
    "df['_merge'].value_counts()"
   ]
  },
  {
   "cell_type": "code",
   "execution_count": 54,
   "id": "f1bbda92-c908-45bb-b652-709f1d9239af",
   "metadata": {},
   "outputs": [
    {
     "data": {
      "text/plain": [
       "Gender\n",
       "Woman    68\n",
       "Name: count, dtype: int64"
      ]
     },
     "execution_count": 54,
     "metadata": {},
     "output_type": "execute_result"
    }
   ],
   "source": [
    "df[df['_merge']=='both']['Gender'].value_counts()"
   ]
  },
  {
   "cell_type": "code",
   "execution_count": 55,
   "id": "af4e1a9a-d9c2-4e72-82ad-d9b855e3c1c2",
   "metadata": {},
   "outputs": [
    {
     "data": {
      "text/plain": [
       "False    1142\n",
       "Name: count, dtype: int64"
      ]
     },
     "execution_count": 55,
     "metadata": {},
     "output_type": "execute_result"
    }
   ],
   "source": [
    "(df.duplicated()).value_counts()"
   ]
  },
  {
   "cell_type": "code",
   "execution_count": 56,
   "id": "005e3f78-7223-4632-9847-e91701f49ce2",
   "metadata": {},
   "outputs": [
    {
     "data": {
      "text/plain": [
       "Name                0\n",
       "Year                0\n",
       "Country_x           0\n",
       "Countries_x         0\n",
       "Category            0\n",
       "Gender              0\n",
       "Details_x         871\n",
       "Countries_y       201\n",
       "Description_x    1074\n",
       "Details_y        1113\n",
       "_merge1             0\n",
       "Country_y        1074\n",
       "Description_y    1074\n",
       "Details          1112\n",
       "Shares           1109\n",
       "_merge              0\n",
       "dtype: int64"
      ]
     },
     "execution_count": 56,
     "metadata": {},
     "output_type": "execute_result"
    }
   ],
   "source": [
    "df.isnull().sum()"
   ]
  },
  {
   "cell_type": "code",
   "execution_count": 57,
   "id": "65cdaffb-a635-48cb-8a23-aa540191c003",
   "metadata": {},
   "outputs": [
    {
     "data": {
      "text/html": [
       "<div>\n",
       "<style scoped>\n",
       "    .dataframe tbody tr th:only-of-type {\n",
       "        vertical-align: middle;\n",
       "    }\n",
       "\n",
       "    .dataframe tbody tr th {\n",
       "        vertical-align: top;\n",
       "    }\n",
       "\n",
       "    .dataframe thead th {\n",
       "        text-align: right;\n",
       "    }\n",
       "</style>\n",
       "<table border=\"1\" class=\"dataframe\">\n",
       "  <thead>\n",
       "    <tr style=\"text-align: right;\">\n",
       "      <th></th>\n",
       "      <th>Name</th>\n",
       "      <th>Year</th>\n",
       "      <th>Category</th>\n",
       "      <th>Gender</th>\n",
       "      <th>_merge1</th>\n",
       "      <th>_merge</th>\n",
       "    </tr>\n",
       "  </thead>\n",
       "  <tbody>\n",
       "    <tr>\n",
       "      <th>0</th>\n",
       "      <td>14th Dalai Lama</td>\n",
       "      <td>1989</td>\n",
       "      <td>Peace</td>\n",
       "      <td>Man</td>\n",
       "      <td>left_only</td>\n",
       "      <td>left_only</td>\n",
       "    </tr>\n",
       "    <tr>\n",
       "      <th>1</th>\n",
       "      <td>A. Michael Spence</td>\n",
       "      <td>2001</td>\n",
       "      <td>Economics</td>\n",
       "      <td>Man</td>\n",
       "      <td>left_only</td>\n",
       "      <td>left_only</td>\n",
       "    </tr>\n",
       "    <tr>\n",
       "      <th>2</th>\n",
       "      <td>Aage Bohr</td>\n",
       "      <td>1975</td>\n",
       "      <td>Physics</td>\n",
       "      <td>Man</td>\n",
       "      <td>both</td>\n",
       "      <td>left_only</td>\n",
       "    </tr>\n",
       "    <tr>\n",
       "      <th>3</th>\n",
       "      <td>Aaron Ciechanover</td>\n",
       "      <td>2004</td>\n",
       "      <td>Chemistry</td>\n",
       "      <td>Man</td>\n",
       "      <td>both</td>\n",
       "      <td>left_only</td>\n",
       "    </tr>\n",
       "    <tr>\n",
       "      <th>4</th>\n",
       "      <td>Aaron Klug</td>\n",
       "      <td>1982</td>\n",
       "      <td>Chemistry</td>\n",
       "      <td>Man</td>\n",
       "      <td>both</td>\n",
       "      <td>left_only</td>\n",
       "    </tr>\n",
       "  </tbody>\n",
       "</table>\n",
       "</div>"
      ],
      "text/plain": [
       "                Name  Year   Category Gender    _merge1     _merge\n",
       "0    14th Dalai Lama  1989      Peace    Man  left_only  left_only\n",
       "1  A. Michael Spence  2001  Economics    Man  left_only  left_only\n",
       "2          Aage Bohr  1975    Physics    Man       both  left_only\n",
       "3  Aaron Ciechanover  2004  Chemistry    Man       both  left_only\n",
       "4         Aaron Klug  1982  Chemistry    Man       both  left_only"
      ]
     },
     "execution_count": 57,
     "metadata": {},
     "output_type": "execute_result"
    }
   ],
   "source": [
    "df = df[['Name', 'Year', 'Category', 'Gender', '_merge1', '_merge']]\n",
    "df.head()"
   ]
  },
  {
   "cell_type": "code",
   "execution_count": 58,
   "id": "0e2a8f5f-92cb-4b69-adb6-48c9d2ebd854",
   "metadata": {},
   "outputs": [
    {
     "data": {
      "text/plain": [
       "False    942\n",
       "True     200\n",
       "Name: count, dtype: int64"
      ]
     },
     "execution_count": 58,
     "metadata": {},
     "output_type": "execute_result"
    }
   ],
   "source": [
    "(df.duplicated()).value_counts()"
   ]
  },
  {
   "cell_type": "code",
   "execution_count": 59,
   "id": "4da3e694-1167-4d6b-97f0-0c5d0726b85d",
   "metadata": {},
   "outputs": [
    {
     "data": {
      "text/html": [
       "<div>\n",
       "<style scoped>\n",
       "    .dataframe tbody tr th:only-of-type {\n",
       "        vertical-align: middle;\n",
       "    }\n",
       "\n",
       "    .dataframe tbody tr th {\n",
       "        vertical-align: top;\n",
       "    }\n",
       "\n",
       "    .dataframe thead th {\n",
       "        text-align: right;\n",
       "    }\n",
       "</style>\n",
       "<table border=\"1\" class=\"dataframe\">\n",
       "  <thead>\n",
       "    <tr style=\"text-align: right;\">\n",
       "      <th></th>\n",
       "      <th>Name</th>\n",
       "      <th>Year</th>\n",
       "      <th>Category</th>\n",
       "      <th>Gender</th>\n",
       "      <th>_merge1</th>\n",
       "      <th>_merge</th>\n",
       "    </tr>\n",
       "  </thead>\n",
       "  <tbody>\n",
       "    <tr>\n",
       "      <th>5</th>\n",
       "      <td>Aaron Klug</td>\n",
       "      <td>1982</td>\n",
       "      <td>Chemistry</td>\n",
       "      <td>Man</td>\n",
       "      <td>both</td>\n",
       "      <td>left_only</td>\n",
       "    </tr>\n",
       "    <tr>\n",
       "      <th>6</th>\n",
       "      <td>Aaron Klug</td>\n",
       "      <td>1982</td>\n",
       "      <td>Chemistry</td>\n",
       "      <td>Man</td>\n",
       "      <td>both</td>\n",
       "      <td>left_only</td>\n",
       "    </tr>\n",
       "    <tr>\n",
       "      <th>9</th>\n",
       "      <td>Abhijit Banerjee</td>\n",
       "      <td>2019</td>\n",
       "      <td>Economics</td>\n",
       "      <td>Man</td>\n",
       "      <td>both</td>\n",
       "      <td>left_only</td>\n",
       "    </tr>\n",
       "    <tr>\n",
       "      <th>25</th>\n",
       "      <td>Alan MacDiarmid</td>\n",
       "      <td>2000</td>\n",
       "      <td>Chemistry</td>\n",
       "      <td>Man</td>\n",
       "      <td>both</td>\n",
       "      <td>left_only</td>\n",
       "    </tr>\n",
       "    <tr>\n",
       "      <th>27</th>\n",
       "      <td>Albert A. Michelson</td>\n",
       "      <td>1907</td>\n",
       "      <td>Physics</td>\n",
       "      <td>Man</td>\n",
       "      <td>left_only</td>\n",
       "      <td>left_only</td>\n",
       "    </tr>\n",
       "    <tr>\n",
       "      <th>...</th>\n",
       "      <td>...</td>\n",
       "      <td>...</td>\n",
       "      <td>...</td>\n",
       "      <td>...</td>\n",
       "      <td>...</td>\n",
       "      <td>...</td>\n",
       "    </tr>\n",
       "    <tr>\n",
       "      <th>1119</th>\n",
       "      <td>William Vickrey</td>\n",
       "      <td>1996</td>\n",
       "      <td>Economics</td>\n",
       "      <td>Man</td>\n",
       "      <td>both</td>\n",
       "      <td>left_only</td>\n",
       "    </tr>\n",
       "    <tr>\n",
       "      <th>1125</th>\n",
       "      <td>Władysław Reymont</td>\n",
       "      <td>1924</td>\n",
       "      <td>Literature</td>\n",
       "      <td>Man</td>\n",
       "      <td>both</td>\n",
       "      <td>left_only</td>\n",
       "    </tr>\n",
       "    <tr>\n",
       "      <th>1135</th>\n",
       "      <td>Yoichiro Nambu</td>\n",
       "      <td>2008</td>\n",
       "      <td>Physics</td>\n",
       "      <td>Man</td>\n",
       "      <td>both</td>\n",
       "      <td>left_only</td>\n",
       "    </tr>\n",
       "    <tr>\n",
       "      <th>1138</th>\n",
       "      <td>Yuan T. Lee</td>\n",
       "      <td>1986</td>\n",
       "      <td>Chemistry</td>\n",
       "      <td>Man</td>\n",
       "      <td>both</td>\n",
       "      <td>left_only</td>\n",
       "    </tr>\n",
       "    <tr>\n",
       "      <th>1141</th>\n",
       "      <td>Zhores Alferov</td>\n",
       "      <td>2000</td>\n",
       "      <td>Physics</td>\n",
       "      <td>Man</td>\n",
       "      <td>both</td>\n",
       "      <td>left_only</td>\n",
       "    </tr>\n",
       "  </tbody>\n",
       "</table>\n",
       "<p>200 rows × 6 columns</p>\n",
       "</div>"
      ],
      "text/plain": [
       "                     Name  Year    Category Gender    _merge1     _merge\n",
       "5              Aaron Klug  1982   Chemistry    Man       both  left_only\n",
       "6              Aaron Klug  1982   Chemistry    Man       both  left_only\n",
       "9        Abhijit Banerjee  2019   Economics    Man       both  left_only\n",
       "25        Alan MacDiarmid  2000   Chemistry    Man       both  left_only\n",
       "27    Albert A. Michelson  1907     Physics    Man  left_only  left_only\n",
       "...                   ...   ...         ...    ...        ...        ...\n",
       "1119      William Vickrey  1996   Economics    Man       both  left_only\n",
       "1125    Władysław Reymont  1924  Literature    Man       both  left_only\n",
       "1135       Yoichiro Nambu  2008     Physics    Man       both  left_only\n",
       "1138          Yuan T. Lee  1986   Chemistry    Man       both  left_only\n",
       "1141       Zhores Alferov  2000     Physics    Man       both  left_only\n",
       "\n",
       "[200 rows x 6 columns]"
      ]
     },
     "execution_count": 59,
     "metadata": {},
     "output_type": "execute_result"
    }
   ],
   "source": [
    "df[(df.duplicated()) == True]"
   ]
  },
  {
   "cell_type": "code",
   "execution_count": 60,
   "id": "7edcb679-8fa6-4425-bf0f-73d4cb006124",
   "metadata": {},
   "outputs": [
    {
     "data": {
      "text/html": [
       "<div>\n",
       "<style scoped>\n",
       "    .dataframe tbody tr th:only-of-type {\n",
       "        vertical-align: middle;\n",
       "    }\n",
       "\n",
       "    .dataframe tbody tr th {\n",
       "        vertical-align: top;\n",
       "    }\n",
       "\n",
       "    .dataframe thead th {\n",
       "        text-align: right;\n",
       "    }\n",
       "</style>\n",
       "<table border=\"1\" class=\"dataframe\">\n",
       "  <thead>\n",
       "    <tr style=\"text-align: right;\">\n",
       "      <th></th>\n",
       "      <th>Name</th>\n",
       "      <th>Year</th>\n",
       "      <th>Category</th>\n",
       "      <th>Gender</th>\n",
       "      <th>_merge1</th>\n",
       "      <th>_merge</th>\n",
       "    </tr>\n",
       "  </thead>\n",
       "  <tbody>\n",
       "    <tr>\n",
       "      <th>0</th>\n",
       "      <td>14th Dalai Lama</td>\n",
       "      <td>1989</td>\n",
       "      <td>Peace</td>\n",
       "      <td>Man</td>\n",
       "      <td>left_only</td>\n",
       "      <td>left_only</td>\n",
       "    </tr>\n",
       "    <tr>\n",
       "      <th>1</th>\n",
       "      <td>A. Michael Spence</td>\n",
       "      <td>2001</td>\n",
       "      <td>Economics</td>\n",
       "      <td>Man</td>\n",
       "      <td>left_only</td>\n",
       "      <td>left_only</td>\n",
       "    </tr>\n",
       "    <tr>\n",
       "      <th>2</th>\n",
       "      <td>Aage Bohr</td>\n",
       "      <td>1975</td>\n",
       "      <td>Physics</td>\n",
       "      <td>Man</td>\n",
       "      <td>both</td>\n",
       "      <td>left_only</td>\n",
       "    </tr>\n",
       "    <tr>\n",
       "      <th>3</th>\n",
       "      <td>Aaron Ciechanover</td>\n",
       "      <td>2004</td>\n",
       "      <td>Chemistry</td>\n",
       "      <td>Man</td>\n",
       "      <td>both</td>\n",
       "      <td>left_only</td>\n",
       "    </tr>\n",
       "    <tr>\n",
       "      <th>4</th>\n",
       "      <td>Aaron Klug</td>\n",
       "      <td>1982</td>\n",
       "      <td>Chemistry</td>\n",
       "      <td>Man</td>\n",
       "      <td>both</td>\n",
       "      <td>left_only</td>\n",
       "    </tr>\n",
       "  </tbody>\n",
       "</table>\n",
       "</div>"
      ],
      "text/plain": [
       "                Name  Year   Category Gender    _merge1     _merge\n",
       "0    14th Dalai Lama  1989      Peace    Man  left_only  left_only\n",
       "1  A. Michael Spence  2001  Economics    Man  left_only  left_only\n",
       "2          Aage Bohr  1975    Physics    Man       both  left_only\n",
       "3  Aaron Ciechanover  2004  Chemistry    Man       both  left_only\n",
       "4         Aaron Klug  1982  Chemistry    Man       both  left_only"
      ]
     },
     "execution_count": 60,
     "metadata": {},
     "output_type": "execute_result"
    }
   ],
   "source": [
    "df = df.drop_duplicates()\n",
    "df.head()"
   ]
  },
  {
   "cell_type": "code",
   "execution_count": 61,
   "id": "176c86ed-be67-424e-ab5a-e9fdcafda274",
   "metadata": {},
   "outputs": [
    {
     "data": {
      "text/plain": [
       "1901"
      ]
     },
     "execution_count": 61,
     "metadata": {},
     "output_type": "execute_result"
    }
   ],
   "source": [
    "df['Year'].min()"
   ]
  },
  {
   "cell_type": "code",
   "execution_count": 62,
   "id": "76216604-63b6-476c-8414-048800c7237c",
   "metadata": {},
   "outputs": [
    {
     "data": {
      "text/plain": [
       "2019"
      ]
     },
     "execution_count": 62,
     "metadata": {},
     "output_type": "execute_result"
    }
   ],
   "source": [
    "df['Year'].max()"
   ]
  },
  {
   "cell_type": "code",
   "execution_count": 63,
   "id": "2fabf3ef-7b3d-4040-9184-50675b46f1c7",
   "metadata": {},
   "outputs": [
    {
     "data": {
      "text/plain": [
       "Gender\n",
       "Man             93.205945\n",
       "Woman            5.732484\n",
       "Organization     1.061571\n",
       "Name: proportion, dtype: float64"
      ]
     },
     "execution_count": 63,
     "metadata": {},
     "output_type": "execute_result"
    }
   ],
   "source": [
    "df['Gender'].value_counts(normalize=True)*100"
   ]
  },
  {
   "cell_type": "code",
   "execution_count": 64,
   "id": "2990dddc-3f8a-4c21-a77a-f77e53109710",
   "metadata": {},
   "outputs": [
    {
     "data": {
      "text/html": [
       "<div>\n",
       "<style scoped>\n",
       "    .dataframe tbody tr th:only-of-type {\n",
       "        vertical-align: middle;\n",
       "    }\n",
       "\n",
       "    .dataframe tbody tr th {\n",
       "        vertical-align: top;\n",
       "    }\n",
       "\n",
       "    .dataframe thead th {\n",
       "        text-align: right;\n",
       "    }\n",
       "</style>\n",
       "<table border=\"1\" class=\"dataframe\">\n",
       "  <thead>\n",
       "    <tr style=\"text-align: right;\">\n",
       "      <th></th>\n",
       "      <th>Year</th>\n",
       "      <th>Gender</th>\n",
       "    </tr>\n",
       "  </thead>\n",
       "  <tbody>\n",
       "    <tr>\n",
       "      <th>0</th>\n",
       "      <td>1901</td>\n",
       "      <td>6</td>\n",
       "    </tr>\n",
       "    <tr>\n",
       "      <th>1</th>\n",
       "      <td>1902</td>\n",
       "      <td>7</td>\n",
       "    </tr>\n",
       "    <tr>\n",
       "      <th>2</th>\n",
       "      <td>1903</td>\n",
       "      <td>7</td>\n",
       "    </tr>\n",
       "    <tr>\n",
       "      <th>3</th>\n",
       "      <td>1904</td>\n",
       "      <td>6</td>\n",
       "    </tr>\n",
       "    <tr>\n",
       "      <th>4</th>\n",
       "      <td>1905</td>\n",
       "      <td>5</td>\n",
       "    </tr>\n",
       "    <tr>\n",
       "      <th>...</th>\n",
       "      <td>...</td>\n",
       "      <td>...</td>\n",
       "    </tr>\n",
       "    <tr>\n",
       "      <th>111</th>\n",
       "      <td>2015</td>\n",
       "      <td>11</td>\n",
       "    </tr>\n",
       "    <tr>\n",
       "      <th>112</th>\n",
       "      <td>2016</td>\n",
       "      <td>11</td>\n",
       "    </tr>\n",
       "    <tr>\n",
       "      <th>113</th>\n",
       "      <td>2017</td>\n",
       "      <td>11</td>\n",
       "    </tr>\n",
       "    <tr>\n",
       "      <th>114</th>\n",
       "      <td>2018</td>\n",
       "      <td>13</td>\n",
       "    </tr>\n",
       "    <tr>\n",
       "      <th>115</th>\n",
       "      <td>2019</td>\n",
       "      <td>14</td>\n",
       "    </tr>\n",
       "  </tbody>\n",
       "</table>\n",
       "<p>116 rows × 2 columns</p>\n",
       "</div>"
      ],
      "text/plain": [
       "     Year  Gender\n",
       "0    1901       6\n",
       "1    1902       7\n",
       "2    1903       7\n",
       "3    1904       6\n",
       "4    1905       5\n",
       "..    ...     ...\n",
       "111  2015      11\n",
       "112  2016      11\n",
       "113  2017      11\n",
       "114  2018      13\n",
       "115  2019      14\n",
       "\n",
       "[116 rows x 2 columns]"
      ]
     },
     "execution_count": 64,
     "metadata": {},
     "output_type": "execute_result"
    }
   ],
   "source": [
    "group1 = df.groupby(['Year']).aggregate({'Gender':'count'}).reset_index()\n",
    "group1"
   ]
  },
  {
   "cell_type": "code",
   "execution_count": 65,
   "id": "37e84f1e-d3de-417a-9111-a1d8ff401d77",
   "metadata": {},
   "outputs": [
    {
     "data": {
      "image/png": "[encoded data removed]",
      "text/plain": [
       "<Figure size 1000x500 with 1 Axes>"
      ]
     },
     "metadata": {},
     "output_type": "display_data"
    }
   ],
   "source": [
    "fig = plt.subplots(figsize=(10, 5))\n",
    "a = sns.lineplot(data=group1, x=\"Year\", y=\"Gender\",markers=True, dashes=False);\n",
    "a.set(title='Total of awarded per year', xlabel='Year', ylabel='Total');"
   ]
  },
  {
   "cell_type": "code",
   "execution_count": 66,
   "id": "1710e2cc-eda2-454d-bbe1-a00c6eabe40c",
   "metadata": {},
   "outputs": [
    {
     "data": {
      "text/html": [
       "<div>\n",
       "<style scoped>\n",
       "    .dataframe tbody tr th:only-of-type {\n",
       "        vertical-align: middle;\n",
       "    }\n",
       "\n",
       "    .dataframe tbody tr th {\n",
       "        vertical-align: top;\n",
       "    }\n",
       "\n",
       "    .dataframe thead th {\n",
       "        text-align: right;\n",
       "    }\n",
       "</style>\n",
       "<table border=\"1\" class=\"dataframe\">\n",
       "  <thead>\n",
       "    <tr style=\"text-align: right;\">\n",
       "      <th></th>\n",
       "      <th>Year</th>\n",
       "      <th>Gender</th>\n",
       "      <th>Category</th>\n",
       "    </tr>\n",
       "  </thead>\n",
       "  <tbody>\n",
       "    <tr>\n",
       "      <th>0</th>\n",
       "      <td>1901</td>\n",
       "      <td>Man</td>\n",
       "      <td>6</td>\n",
       "    </tr>\n",
       "    <tr>\n",
       "      <th>1</th>\n",
       "      <td>1902</td>\n",
       "      <td>Man</td>\n",
       "      <td>7</td>\n",
       "    </tr>\n",
       "    <tr>\n",
       "      <th>2</th>\n",
       "      <td>1903</td>\n",
       "      <td>Man</td>\n",
       "      <td>6</td>\n",
       "    </tr>\n",
       "    <tr>\n",
       "      <th>3</th>\n",
       "      <td>1903</td>\n",
       "      <td>Woman</td>\n",
       "      <td>1</td>\n",
       "    </tr>\n",
       "    <tr>\n",
       "      <th>4</th>\n",
       "      <td>1904</td>\n",
       "      <td>Man</td>\n",
       "      <td>5</td>\n",
       "    </tr>\n",
       "    <tr>\n",
       "      <th>...</th>\n",
       "      <td>...</td>\n",
       "      <td>...</td>\n",
       "      <td>...</td>\n",
       "    </tr>\n",
       "    <tr>\n",
       "      <th>159</th>\n",
       "      <td>2017</td>\n",
       "      <td>Man</td>\n",
       "      <td>11</td>\n",
       "    </tr>\n",
       "    <tr>\n",
       "      <th>160</th>\n",
       "      <td>2018</td>\n",
       "      <td>Man</td>\n",
       "      <td>9</td>\n",
       "    </tr>\n",
       "    <tr>\n",
       "      <th>161</th>\n",
       "      <td>2018</td>\n",
       "      <td>Woman</td>\n",
       "      <td>4</td>\n",
       "    </tr>\n",
       "    <tr>\n",
       "      <th>162</th>\n",
       "      <td>2019</td>\n",
       "      <td>Man</td>\n",
       "      <td>13</td>\n",
       "    </tr>\n",
       "    <tr>\n",
       "      <th>163</th>\n",
       "      <td>2019</td>\n",
       "      <td>Woman</td>\n",
       "      <td>1</td>\n",
       "    </tr>\n",
       "  </tbody>\n",
       "</table>\n",
       "<p>164 rows × 3 columns</p>\n",
       "</div>"
      ],
      "text/plain": [
       "     Year Gender  Category\n",
       "0    1901    Man         6\n",
       "1    1902    Man         7\n",
       "2    1903    Man         6\n",
       "3    1903  Woman         1\n",
       "4    1904    Man         5\n",
       "..    ...    ...       ...\n",
       "159  2017    Man        11\n",
       "160  2018    Man         9\n",
       "161  2018  Woman         4\n",
       "162  2019    Man        13\n",
       "163  2019  Woman         1\n",
       "\n",
       "[164 rows x 3 columns]"
      ]
     },
     "execution_count": 66,
     "metadata": {},
     "output_type": "execute_result"
    }
   ],
   "source": [
    "group2 = df.groupby(['Year','Gender']).aggregate({'Category':'count'}).reset_index()\n",
    "group2"
   ]
  },
  {
   "cell_type": "code",
   "execution_count": 67,
   "id": "649e9963-ca7c-4c9e-8d37-65808d72ff0e",
   "metadata": {},
   "outputs": [
    {
     "data": {
      "image/png": "[encoded data removed]",
      "text/plain": [
       "<Figure size 1000x500 with 1 Axes>"
      ]
     },
     "metadata": {},
     "output_type": "display_data"
    }
   ],
   "source": [
    "fig = plt.subplots(figsize=(10, 5))\n",
    "a = sns.lineplot(data=group2, x=\"Year\", y=\"Category\", hue=\"Gender\", style=\"Gender\", markers=True, dashes=False,palette=['#018571','#a6611a','#80cdc1']);\n",
    "a.set(title='Total of awarded per year by Gender', xlabel='Year', ylabel='Total');\n",
    "a.set_title('Total of awarded per year by Gender', fontdict={'size': 20, 'weight': 'bold', 'color': '#a6611a'})\n",
    "a.xaxis.label.set_color('#a6611a')\n",
    "a.yaxis.label.set_color('#a6611a')"
   ]
  },
  {
   "cell_type": "code",
   "execution_count": 68,
   "id": "3dcf5d97-997e-45a1-b449-1290c1139e84",
   "metadata": {},
   "outputs": [
    {
     "data": {
      "text/html": [
       "<div>\n",
       "<style scoped>\n",
       "    .dataframe tbody tr th:only-of-type {\n",
       "        vertical-align: middle;\n",
       "    }\n",
       "\n",
       "    .dataframe tbody tr th {\n",
       "        vertical-align: top;\n",
       "    }\n",
       "\n",
       "    .dataframe thead th {\n",
       "        text-align: right;\n",
       "    }\n",
       "</style>\n",
       "<table border=\"1\" class=\"dataframe\">\n",
       "  <thead>\n",
       "    <tr style=\"text-align: right;\">\n",
       "      <th></th>\n",
       "      <th>Name</th>\n",
       "      <th>Year</th>\n",
       "      <th>Category</th>\n",
       "      <th>Gender</th>\n",
       "      <th>_merge1</th>\n",
       "      <th>_merge</th>\n",
       "    </tr>\n",
       "  </thead>\n",
       "  <tbody>\n",
       "    <tr>\n",
       "      <th>698</th>\n",
       "      <td>Marie Skłodowska-Curie</td>\n",
       "      <td>1903</td>\n",
       "      <td>Physics</td>\n",
       "      <td>Woman</td>\n",
       "      <td>both</td>\n",
       "      <td>both</td>\n",
       "    </tr>\n",
       "    <tr>\n",
       "      <th>700</th>\n",
       "      <td>Marie Skłodowska-Curie</td>\n",
       "      <td>1911</td>\n",
       "      <td>Chemistry</td>\n",
       "      <td>Woman</td>\n",
       "      <td>both</td>\n",
       "      <td>both</td>\n",
       "    </tr>\n",
       "  </tbody>\n",
       "</table>\n",
       "</div>"
      ],
      "text/plain": [
       "                       Name  Year   Category Gender _merge1 _merge\n",
       "698  Marie Skłodowska-Curie  1903    Physics  Woman    both   both\n",
       "700  Marie Skłodowska-Curie  1911  Chemistry  Woman    both   both"
      ]
     },
     "execution_count": 68,
     "metadata": {},
     "output_type": "execute_result"
    }
   ],
   "source": [
    "df[df['Name'] == 'Marie Skłodowska-Curie']"
   ]
  },
  {
   "cell_type": "code",
   "execution_count": 69,
   "id": "1361d7b8-2712-4611-b1b5-d3475589512d",
   "metadata": {},
   "outputs": [
    {
     "data": {
      "text/html": [
       "<div>\n",
       "<style scoped>\n",
       "    .dataframe tbody tr th:only-of-type {\n",
       "        vertical-align: middle;\n",
       "    }\n",
       "\n",
       "    .dataframe tbody tr th {\n",
       "        vertical-align: top;\n",
       "    }\n",
       "\n",
       "    .dataframe thead th {\n",
       "        text-align: right;\n",
       "    }\n",
       "</style>\n",
       "<table border=\"1\" class=\"dataframe\">\n",
       "  <thead>\n",
       "    <tr style=\"text-align: right;\">\n",
       "      <th></th>\n",
       "      <th>Name</th>\n",
       "      <th>Year</th>\n",
       "      <th>Category</th>\n",
       "      <th>Gender</th>\n",
       "      <th>_merge1</th>\n",
       "      <th>_merge</th>\n",
       "    </tr>\n",
       "  </thead>\n",
       "  <tbody>\n",
       "    <tr>\n",
       "      <th>11</th>\n",
       "      <td>Ada Yonath</td>\n",
       "      <td>2009</td>\n",
       "      <td>Chemistry</td>\n",
       "      <td>Woman</td>\n",
       "      <td>both</td>\n",
       "      <td>both</td>\n",
       "    </tr>\n",
       "  </tbody>\n",
       "</table>\n",
       "</div>"
      ],
      "text/plain": [
       "          Name  Year   Category Gender _merge1 _merge\n",
       "11  Ada Yonath  2009  Chemistry  Woman    both   both"
      ]
     },
     "execution_count": 69,
     "metadata": {},
     "output_type": "execute_result"
    }
   ],
   "source": [
    "df[df['Name'] == 'Ada Yonath']"
   ]
  },
  {
   "cell_type": "code",
   "execution_count": 70,
   "id": "633b011f-a2f8-4e80-b999-c624e47bf1b5",
   "metadata": {},
   "outputs": [
    {
     "data": {
      "text/html": [
       "<div>\n",
       "<style scoped>\n",
       "    .dataframe tbody tr th:only-of-type {\n",
       "        vertical-align: middle;\n",
       "    }\n",
       "\n",
       "    .dataframe tbody tr th {\n",
       "        vertical-align: top;\n",
       "    }\n",
       "\n",
       "    .dataframe thead th {\n",
       "        text-align: right;\n",
       "    }\n",
       "</style>\n",
       "<table border=\"1\" class=\"dataframe\">\n",
       "  <thead>\n",
       "    <tr style=\"text-align: right;\">\n",
       "      <th></th>\n",
       "      <th>Year</th>\n",
       "      <th>Name</th>\n",
       "    </tr>\n",
       "  </thead>\n",
       "  <tbody>\n",
       "    <tr>\n",
       "      <th>0</th>\n",
       "      <td>1903</td>\n",
       "      <td>[Marie Skłodowska-Curie]</td>\n",
       "    </tr>\n",
       "    <tr>\n",
       "      <th>1</th>\n",
       "      <td>1905</td>\n",
       "      <td>[Bertha von Suttner]</td>\n",
       "    </tr>\n",
       "    <tr>\n",
       "      <th>2</th>\n",
       "      <td>1909</td>\n",
       "      <td>[Selma Lagerlöf]</td>\n",
       "    </tr>\n",
       "    <tr>\n",
       "      <th>3</th>\n",
       "      <td>1911</td>\n",
       "      <td>[Marie Skłodowska-Curie]</td>\n",
       "    </tr>\n",
       "    <tr>\n",
       "      <th>4</th>\n",
       "      <td>1926</td>\n",
       "      <td>[Grazia Deledda]</td>\n",
       "    </tr>\n",
       "    <tr>\n",
       "      <th>5</th>\n",
       "      <td>1928</td>\n",
       "      <td>[Sigrid Undset]</td>\n",
       "    </tr>\n",
       "    <tr>\n",
       "      <th>6</th>\n",
       "      <td>1931</td>\n",
       "      <td>[Jane Addams]</td>\n",
       "    </tr>\n",
       "    <tr>\n",
       "      <th>7</th>\n",
       "      <td>1935</td>\n",
       "      <td>[Irène Joliot-Curie]</td>\n",
       "    </tr>\n",
       "    <tr>\n",
       "      <th>8</th>\n",
       "      <td>1938</td>\n",
       "      <td>[Pearl S. Buck]</td>\n",
       "    </tr>\n",
       "    <tr>\n",
       "      <th>9</th>\n",
       "      <td>1945</td>\n",
       "      <td>[Gabriela Mistral]</td>\n",
       "    </tr>\n",
       "    <tr>\n",
       "      <th>10</th>\n",
       "      <td>1946</td>\n",
       "      <td>[Emily Greene Balch]</td>\n",
       "    </tr>\n",
       "    <tr>\n",
       "      <th>11</th>\n",
       "      <td>1947</td>\n",
       "      <td>[Gerty Cori]</td>\n",
       "    </tr>\n",
       "    <tr>\n",
       "      <th>12</th>\n",
       "      <td>1963</td>\n",
       "      <td>[Maria Goeppert-Mayer]</td>\n",
       "    </tr>\n",
       "    <tr>\n",
       "      <th>13</th>\n",
       "      <td>1964</td>\n",
       "      <td>[Dorothy Hodgkin]</td>\n",
       "    </tr>\n",
       "    <tr>\n",
       "      <th>14</th>\n",
       "      <td>1966</td>\n",
       "      <td>[Nelly Sachs]</td>\n",
       "    </tr>\n",
       "    <tr>\n",
       "      <th>15</th>\n",
       "      <td>1976</td>\n",
       "      <td>[Betty Williams, Mairead Maguire]</td>\n",
       "    </tr>\n",
       "    <tr>\n",
       "      <th>16</th>\n",
       "      <td>1977</td>\n",
       "      <td>[Rosalyn Sussman Yalow]</td>\n",
       "    </tr>\n",
       "    <tr>\n",
       "      <th>17</th>\n",
       "      <td>1979</td>\n",
       "      <td>[Mother Teresa]</td>\n",
       "    </tr>\n",
       "    <tr>\n",
       "      <th>18</th>\n",
       "      <td>1982</td>\n",
       "      <td>[Alva Myrdal]</td>\n",
       "    </tr>\n",
       "    <tr>\n",
       "      <th>19</th>\n",
       "      <td>1983</td>\n",
       "      <td>[Barbara McClintock]</td>\n",
       "    </tr>\n",
       "    <tr>\n",
       "      <th>20</th>\n",
       "      <td>1986</td>\n",
       "      <td>[Rita Levi-Montalcini]</td>\n",
       "    </tr>\n",
       "    <tr>\n",
       "      <th>21</th>\n",
       "      <td>1988</td>\n",
       "      <td>[Gertrude B. Elion]</td>\n",
       "    </tr>\n",
       "    <tr>\n",
       "      <th>22</th>\n",
       "      <td>1991</td>\n",
       "      <td>[Aung San Suu Kyi, Nadine Gordimer]</td>\n",
       "    </tr>\n",
       "    <tr>\n",
       "      <th>23</th>\n",
       "      <td>1992</td>\n",
       "      <td>[Rigoberta Menchú]</td>\n",
       "    </tr>\n",
       "    <tr>\n",
       "      <th>24</th>\n",
       "      <td>1993</td>\n",
       "      <td>[Toni Morrison]</td>\n",
       "    </tr>\n",
       "    <tr>\n",
       "      <th>25</th>\n",
       "      <td>1995</td>\n",
       "      <td>[Christiane Nüsslein-Volhard]</td>\n",
       "    </tr>\n",
       "    <tr>\n",
       "      <th>26</th>\n",
       "      <td>1996</td>\n",
       "      <td>[Wisława Szymborska]</td>\n",
       "    </tr>\n",
       "    <tr>\n",
       "      <th>27</th>\n",
       "      <td>1997</td>\n",
       "      <td>[Jody Williams]</td>\n",
       "    </tr>\n",
       "    <tr>\n",
       "      <th>28</th>\n",
       "      <td>2003</td>\n",
       "      <td>[Shirin Ebadi]</td>\n",
       "    </tr>\n",
       "    <tr>\n",
       "      <th>29</th>\n",
       "      <td>2004</td>\n",
       "      <td>[Elfriede Jelinek, Linda B. Buck, Wangari Maat...</td>\n",
       "    </tr>\n",
       "    <tr>\n",
       "      <th>30</th>\n",
       "      <td>2007</td>\n",
       "      <td>[Doris Lessing]</td>\n",
       "    </tr>\n",
       "    <tr>\n",
       "      <th>31</th>\n",
       "      <td>2008</td>\n",
       "      <td>[Françoise Barré-Sinoussi]</td>\n",
       "    </tr>\n",
       "    <tr>\n",
       "      <th>32</th>\n",
       "      <td>2009</td>\n",
       "      <td>[Ada Yonath, Carol W. Greider, Elinor Ostrom, ...</td>\n",
       "    </tr>\n",
       "    <tr>\n",
       "      <th>33</th>\n",
       "      <td>2011</td>\n",
       "      <td>[Ellen Johnson Sirleaf, Leymah Gbowee, Tawakko...</td>\n",
       "    </tr>\n",
       "    <tr>\n",
       "      <th>34</th>\n",
       "      <td>2013</td>\n",
       "      <td>[Alice Munro]</td>\n",
       "    </tr>\n",
       "    <tr>\n",
       "      <th>35</th>\n",
       "      <td>2014</td>\n",
       "      <td>[Malala Yousafzai, May-Britt Moser]</td>\n",
       "    </tr>\n",
       "    <tr>\n",
       "      <th>36</th>\n",
       "      <td>2015</td>\n",
       "      <td>[Svetlana Alexievich, Tu Youyou]</td>\n",
       "    </tr>\n",
       "    <tr>\n",
       "      <th>37</th>\n",
       "      <td>2018</td>\n",
       "      <td>[Donna Strickland, Frances H. Arnold, Nadia Mu...</td>\n",
       "    </tr>\n",
       "    <tr>\n",
       "      <th>38</th>\n",
       "      <td>2019</td>\n",
       "      <td>[Esther Duflo]</td>\n",
       "    </tr>\n",
       "  </tbody>\n",
       "</table>\n",
       "</div>"
      ],
      "text/plain": [
       "    Year                                               Name\n",
       "0   1903                           [Marie Skłodowska-Curie]\n",
       "1   1905                               [Bertha von Suttner]\n",
       "2   1909                                   [Selma Lagerlöf]\n",
       "3   1911                           [Marie Skłodowska-Curie]\n",
       "4   1926                                   [Grazia Deledda]\n",
       "5   1928                                    [Sigrid Undset]\n",
       "6   1931                                      [Jane Addams]\n",
       "7   1935                               [Irène Joliot-Curie]\n",
       "8   1938                                    [Pearl S. Buck]\n",
       "9   1945                                 [Gabriela Mistral]\n",
       "10  1946                               [Emily Greene Balch]\n",
       "11  1947                                       [Gerty Cori]\n",
       "12  1963                             [Maria Goeppert-Mayer]\n",
       "13  1964                                  [Dorothy Hodgkin]\n",
       "14  1966                                      [Nelly Sachs]\n",
       "15  1976                  [Betty Williams, Mairead Maguire]\n",
       "16  1977                            [Rosalyn Sussman Yalow]\n",
       "17  1979                                    [Mother Teresa]\n",
       "18  1982                                      [Alva Myrdal]\n",
       "19  1983                               [Barbara McClintock]\n",
       "20  1986                             [Rita Levi-Montalcini]\n",
       "21  1988                                [Gertrude B. Elion]\n",
       "22  1991                [Aung San Suu Kyi, Nadine Gordimer]\n",
       "23  1992                                 [Rigoberta Menchú]\n",
       "24  1993                                    [Toni Morrison]\n",
       "25  1995                      [Christiane Nüsslein-Volhard]\n",
       "26  1996                               [Wisława Szymborska]\n",
       "27  1997                                    [Jody Williams]\n",
       "28  2003                                     [Shirin Ebadi]\n",
       "29  2004  [Elfriede Jelinek, Linda B. Buck, Wangari Maat...\n",
       "30  2007                                    [Doris Lessing]\n",
       "31  2008                         [Françoise Barré-Sinoussi]\n",
       "32  2009  [Ada Yonath, Carol W. Greider, Elinor Ostrom, ...\n",
       "33  2011  [Ellen Johnson Sirleaf, Leymah Gbowee, Tawakko...\n",
       "34  2013                                      [Alice Munro]\n",
       "35  2014                [Malala Yousafzai, May-Britt Moser]\n",
       "36  2015                   [Svetlana Alexievich, Tu Youyou]\n",
       "37  2018  [Donna Strickland, Frances H. Arnold, Nadia Mu...\n",
       "38  2019                                     [Esther Duflo]"
      ]
     },
     "execution_count": 70,
     "metadata": {},
     "output_type": "execute_result"
    }
   ],
   "source": [
    "group3 = df[df['Gender']=='Woman'].groupby(['Year']).aggregate({'Name':'unique'}).reset_index()\n",
    "group3"
   ]
  },
  {
   "cell_type": "code",
   "execution_count": 71,
   "id": "ba87c0b1-de8a-452f-b13b-92b225226934",
   "metadata": {},
   "outputs": [
    {
     "data": {
      "text/plain": [
       "Category\n",
       "Peace                     17\n",
       "Literature                15\n",
       "Physiology or Medicine    12\n",
       "Chemistry                  5\n",
       "Physics                    3\n",
       "Economics                  2\n",
       "Name: count, dtype: int64"
      ]
     },
     "execution_count": 71,
     "metadata": {},
     "output_type": "execute_result"
    }
   ],
   "source": [
    "df[df['Gender']=='Woman']['Category'].value_counts()"
   ]
  },
  {
   "cell_type": "code",
   "execution_count": 72,
   "id": "1d1546eb-9dfb-4c70-8792-48bf61fe6ef9",
   "metadata": {},
   "outputs": [
    {
     "name": "stderr",
     "output_type": "stream",
     "text": [
      "/tmp/ipykernel_63174/4194132122.py:13: FutureWarning: Series.__getitem__ treating keys as positions is deprecated. In a future version, integer keys will always be treated as labels (consistent with DataFrame behavior). To access a value by position, use `ser.iloc[pos]`\n",
      "  labels = [f'{count[i]}%' for i in range(0,len(count))]\n"
     ]
    },
    {
     "data": {
      "image/png": "[encoded data removed]",
      "text/plain": [
       "<Figure size 640x480 with 1 Axes>"
      ]
     },
     "metadata": {},
     "output_type": "display_data"
    }
   ],
   "source": [
    "#Woman\n",
    "# Create the subplot\n",
    "count = round(df[df['Gender']=='Woman']['Category'].value_counts(normalize=True)*100,2)\n",
    "bars = plt.bar(x=count.index, height=count.values, color='#80cdc1',width = 0.8)\n",
    "\n",
    "# Edit x axis names\n",
    "x=count.index\n",
    "my_xticks = count.index\n",
    "plt.xticks(x, my_xticks)\n",
    "plt.gca().set_xticks(count.index, labels=my_xticks, rotation=45, ha='right', color='#a6611a')\n",
    "\n",
    "# Add label\n",
    "labels = [f'{count[i]}%' for i in range(0,len(count))]\n",
    "plt.bar_label(bars,labels=labels,color='#a6611a')\n",
    "\n",
    "# plt.ylabel('Frequency')\n",
    "plt.title('Female Nobel Prize Categories',color='#a6611a',size= 20, weight= 'bold')\n",
    "\n",
    "# Removing y axis\n",
    "plt.yticks([])\n",
    "\n",
    "# Removing the borders\n",
    "plt.gca().spines[['right','top','left','bottom']].set_visible(False) \n",
    "\n",
    "# Adjust layout \n",
    "plt.tight_layout()"
   ]
  },
  {
   "cell_type": "code",
   "execution_count": 73,
   "id": "53751685-6118-4042-b26b-05442c953afe",
   "metadata": {},
   "outputs": [],
   "source": [
    "# Word Cloud \n",
    "import wordcloud\n",
    "from wordcloud import WordCloud"
   ]
  },
  {
   "cell_type": "code",
   "execution_count": 74,
   "id": "f168b420-cc6e-4a7f-899b-bc462aa3ffe0",
   "metadata": {},
   "outputs": [
    {
     "data": {
      "text/plain": [
       "array(['Ada Yonath', 'Alice Munro', 'Alva Myrdal', 'Aung San Suu Kyi',\n",
       "       'Barbara McClintock', 'Bertha von Suttner', 'Betty Williams',\n",
       "       'Carol W. Greider', 'Christiane Nüsslein-Volhard',\n",
       "       'Donna Strickland', 'Doris Lessing', 'Dorothy Hodgkin',\n",
       "       'Elfriede Jelinek', 'Elinor Ostrom', 'Elizabeth Blackburn',\n",
       "       'Ellen Johnson Sirleaf', 'Emily Greene Balch', 'Esther Duflo',\n",
       "       'Frances H. Arnold', 'Françoise Barré-Sinoussi',\n",
       "       'Gabriela Mistral', 'Gertrude B. Elion', 'Gerty Cori',\n",
       "       'Grazia Deledda', 'Herta Müller', 'Irène Joliot-Curie',\n",
       "       'Jane Addams', 'Jody Williams', 'Leymah Gbowee', 'Linda B. Buck',\n",
       "       'Mairead Maguire', 'Malala Yousafzai', 'Maria Goeppert-Mayer',\n",
       "       'Marie Skłodowska-Curie', 'Marie Skłodowska-Curie',\n",
       "       'May-Britt Moser', 'Mother Teresa', 'Nadia Murad',\n",
       "       'Nadine Gordimer', 'Nelly Sachs', 'Olga Tokarczuk',\n",
       "       'Pearl S. Buck', 'Rigoberta Menchú', 'Rita Levi-Montalcini',\n",
       "       'Rosalyn Sussman Yalow', 'Selma Lagerlöf', 'Shirin Ebadi',\n",
       "       'Sigrid Undset', 'Svetlana Alexievich', 'Tawakkol Karman',\n",
       "       'Toni Morrison', 'Tu Youyou', 'Wangari Maathai',\n",
       "       'Wisława Szymborska'], dtype=object)"
      ]
     },
     "execution_count": 74,
     "metadata": {},
     "output_type": "execute_result"
    }
   ],
   "source": [
    "text_aux = df[df['Gender']=='Woman']['Name'].values\n",
    "text_aux"
   ]
  },
  {
   "cell_type": "code",
   "execution_count": 75,
   "id": "ca1e3970-0be5-457d-bec2-1faf97932cdb",
   "metadata": {},
   "outputs": [
    {
     "data": {
      "text/plain": [
       "'  Ada Yonath Alice Munro Alva Myrdal Aung San Suu Kyi Barbara McClintock Bertha von Suttner Betty Williams Carol W. Greider Christiane Nüsslein-Volhard Donna Strickland Doris Lessing Dorothy Hodgkin Elfriede Jelinek Elinor Ostrom Elizabeth Blackburn Ellen Johnson Sirleaf Emily Greene Balch Esther Duflo Frances H. Arnold Françoise Barré-Sinoussi Gabriela Mistral Gertrude B. Elion Gerty Cori Grazia Deledda Herta Müller Irène Joliot-Curie Jane Addams Jody Williams Leymah Gbowee Linda B. Buck Mairead Maguire Malala Yousafzai Maria Goeppert-Mayer Marie Skłodowska-Curie Marie Skłodowska-Curie May-Britt Moser Mother Teresa Nadia Murad Nadine Gordimer Nelly Sachs Olga Tokarczuk Pearl S. Buck Rigoberta Menchú Rita Levi-Montalcini Rosalyn Sussman Yalow Selma Lagerlöf Shirin Ebadi Sigrid Undset Svetlana Alexievich Tawakkol Karman Toni Morrison Tu Youyou Wangari Maathai Wisława Szymborska'"
      ]
     },
     "execution_count": 75,
     "metadata": {},
     "output_type": "execute_result"
    }
   ],
   "source": [
    "text = ' '\n",
    "for i in text_aux:\n",
    "    text = text + ' ' + ''.join(i)\n",
    "text"
   ]
  },
  {
   "cell_type": "code",
   "execution_count": 76,
   "id": "0645a827-afc5-4760-a0bb-e7d8dcc1fe49",
   "metadata": {},
   "outputs": [
    {
     "data": {
      "text/plain": [
       "(-0.5, 399.5, 199.5, -0.5)"
      ]
     },
     "execution_count": 76,
     "metadata": {},
     "output_type": "execute_result"
    },
    {
     "data": {
      "image/png": "[encoded data removed]",
      "text/plain": [
       "<Figure size 1000x500 with 1 Axes>"
      ]
     },
     "metadata": {},
     "output_type": "display_data"
    }
   ],
   "source": [
    "# Create and generate a word cloud image:\n",
    "fig = plt.subplots(figsize=(10, 5))\n",
    "colors = ['#018571','#a6611a','#80cdc1']\n",
    "wordcloud = WordCloud(max_font_size=50, max_words=100, background_color=\"white\",colormap='BrBG').generate(text)\n",
    "\n",
    "# Display the generated image:\n",
    "plt.imshow(wordcloud, interpolation='bilinear')\n",
    "plt.axis(\"off\")"
   ]
  },
  {
   "cell_type": "code",
   "execution_count": 77,
   "id": "98f26004-d4b7-45c5-868c-50ea459738ee",
   "metadata": {},
   "outputs": [
    {
     "data": {
      "text/plain": [
       "Gender\n",
       "Man             93.205945\n",
       "Woman            5.732484\n",
       "Organization     1.061571\n",
       "Name: proportion, dtype: float64"
      ]
     },
     "execution_count": 77,
     "metadata": {},
     "output_type": "execute_result"
    }
   ],
   "source": [
    "df['Gender'].value_counts(normalize=True)*100"
   ]
  },
  {
   "cell_type": "code",
   "execution_count": 78,
   "id": "382619e2-41da-47f9-b026-a59de7b61885",
   "metadata": {},
   "outputs": [
    {
     "data": {
      "text/html": [
       "<div>\n",
       "<style scoped>\n",
       "    .dataframe tbody tr th:only-of-type {\n",
       "        vertical-align: middle;\n",
       "    }\n",
       "\n",
       "    .dataframe tbody tr th {\n",
       "        vertical-align: top;\n",
       "    }\n",
       "\n",
       "    .dataframe thead th {\n",
       "        text-align: right;\n",
       "    }\n",
       "</style>\n",
       "<table border=\"1\" class=\"dataframe\">\n",
       "  <thead>\n",
       "    <tr style=\"text-align: right;\">\n",
       "      <th></th>\n",
       "      <th>Year</th>\n",
       "      <th>Name</th>\n",
       "    </tr>\n",
       "  </thead>\n",
       "  <tbody>\n",
       "    <tr>\n",
       "      <th>0</th>\n",
       "      <td>1903</td>\n",
       "      <td>1</td>\n",
       "    </tr>\n",
       "    <tr>\n",
       "      <th>1</th>\n",
       "      <td>1905</td>\n",
       "      <td>1</td>\n",
       "    </tr>\n",
       "    <tr>\n",
       "      <th>2</th>\n",
       "      <td>1909</td>\n",
       "      <td>1</td>\n",
       "    </tr>\n",
       "    <tr>\n",
       "      <th>3</th>\n",
       "      <td>1911</td>\n",
       "      <td>1</td>\n",
       "    </tr>\n",
       "    <tr>\n",
       "      <th>4</th>\n",
       "      <td>1926</td>\n",
       "      <td>1</td>\n",
       "    </tr>\n",
       "    <tr>\n",
       "      <th>5</th>\n",
       "      <td>1928</td>\n",
       "      <td>1</td>\n",
       "    </tr>\n",
       "    <tr>\n",
       "      <th>6</th>\n",
       "      <td>1931</td>\n",
       "      <td>1</td>\n",
       "    </tr>\n",
       "    <tr>\n",
       "      <th>7</th>\n",
       "      <td>1935</td>\n",
       "      <td>1</td>\n",
       "    </tr>\n",
       "    <tr>\n",
       "      <th>8</th>\n",
       "      <td>1938</td>\n",
       "      <td>1</td>\n",
       "    </tr>\n",
       "    <tr>\n",
       "      <th>9</th>\n",
       "      <td>1945</td>\n",
       "      <td>1</td>\n",
       "    </tr>\n",
       "    <tr>\n",
       "      <th>10</th>\n",
       "      <td>1946</td>\n",
       "      <td>1</td>\n",
       "    </tr>\n",
       "    <tr>\n",
       "      <th>11</th>\n",
       "      <td>1947</td>\n",
       "      <td>1</td>\n",
       "    </tr>\n",
       "    <tr>\n",
       "      <th>12</th>\n",
       "      <td>1963</td>\n",
       "      <td>1</td>\n",
       "    </tr>\n",
       "    <tr>\n",
       "      <th>13</th>\n",
       "      <td>1964</td>\n",
       "      <td>1</td>\n",
       "    </tr>\n",
       "    <tr>\n",
       "      <th>14</th>\n",
       "      <td>1966</td>\n",
       "      <td>1</td>\n",
       "    </tr>\n",
       "    <tr>\n",
       "      <th>15</th>\n",
       "      <td>1976</td>\n",
       "      <td>2</td>\n",
       "    </tr>\n",
       "    <tr>\n",
       "      <th>16</th>\n",
       "      <td>1977</td>\n",
       "      <td>1</td>\n",
       "    </tr>\n",
       "    <tr>\n",
       "      <th>17</th>\n",
       "      <td>1979</td>\n",
       "      <td>1</td>\n",
       "    </tr>\n",
       "    <tr>\n",
       "      <th>18</th>\n",
       "      <td>1982</td>\n",
       "      <td>1</td>\n",
       "    </tr>\n",
       "    <tr>\n",
       "      <th>19</th>\n",
       "      <td>1983</td>\n",
       "      <td>1</td>\n",
       "    </tr>\n",
       "    <tr>\n",
       "      <th>20</th>\n",
       "      <td>1986</td>\n",
       "      <td>1</td>\n",
       "    </tr>\n",
       "    <tr>\n",
       "      <th>21</th>\n",
       "      <td>1988</td>\n",
       "      <td>1</td>\n",
       "    </tr>\n",
       "    <tr>\n",
       "      <th>22</th>\n",
       "      <td>1991</td>\n",
       "      <td>2</td>\n",
       "    </tr>\n",
       "    <tr>\n",
       "      <th>23</th>\n",
       "      <td>1992</td>\n",
       "      <td>1</td>\n",
       "    </tr>\n",
       "    <tr>\n",
       "      <th>24</th>\n",
       "      <td>1993</td>\n",
       "      <td>1</td>\n",
       "    </tr>\n",
       "    <tr>\n",
       "      <th>25</th>\n",
       "      <td>1995</td>\n",
       "      <td>1</td>\n",
       "    </tr>\n",
       "    <tr>\n",
       "      <th>26</th>\n",
       "      <td>1996</td>\n",
       "      <td>1</td>\n",
       "    </tr>\n",
       "    <tr>\n",
       "      <th>27</th>\n",
       "      <td>1997</td>\n",
       "      <td>1</td>\n",
       "    </tr>\n",
       "    <tr>\n",
       "      <th>28</th>\n",
       "      <td>2003</td>\n",
       "      <td>1</td>\n",
       "    </tr>\n",
       "    <tr>\n",
       "      <th>29</th>\n",
       "      <td>2004</td>\n",
       "      <td>3</td>\n",
       "    </tr>\n",
       "    <tr>\n",
       "      <th>30</th>\n",
       "      <td>2007</td>\n",
       "      <td>1</td>\n",
       "    </tr>\n",
       "    <tr>\n",
       "      <th>31</th>\n",
       "      <td>2008</td>\n",
       "      <td>1</td>\n",
       "    </tr>\n",
       "    <tr>\n",
       "      <th>32</th>\n",
       "      <td>2009</td>\n",
       "      <td>5</td>\n",
       "    </tr>\n",
       "    <tr>\n",
       "      <th>33</th>\n",
       "      <td>2011</td>\n",
       "      <td>3</td>\n",
       "    </tr>\n",
       "    <tr>\n",
       "      <th>34</th>\n",
       "      <td>2013</td>\n",
       "      <td>1</td>\n",
       "    </tr>\n",
       "    <tr>\n",
       "      <th>35</th>\n",
       "      <td>2014</td>\n",
       "      <td>2</td>\n",
       "    </tr>\n",
       "    <tr>\n",
       "      <th>36</th>\n",
       "      <td>2015</td>\n",
       "      <td>2</td>\n",
       "    </tr>\n",
       "    <tr>\n",
       "      <th>37</th>\n",
       "      <td>2018</td>\n",
       "      <td>4</td>\n",
       "    </tr>\n",
       "    <tr>\n",
       "      <th>38</th>\n",
       "      <td>2019</td>\n",
       "      <td>1</td>\n",
       "    </tr>\n",
       "  </tbody>\n",
       "</table>\n",
       "</div>"
      ],
      "text/plain": [
       "    Year  Name\n",
       "0   1903     1\n",
       "1   1905     1\n",
       "2   1909     1\n",
       "3   1911     1\n",
       "4   1926     1\n",
       "5   1928     1\n",
       "6   1931     1\n",
       "7   1935     1\n",
       "8   1938     1\n",
       "9   1945     1\n",
       "10  1946     1\n",
       "11  1947     1\n",
       "12  1963     1\n",
       "13  1964     1\n",
       "14  1966     1\n",
       "15  1976     2\n",
       "16  1977     1\n",
       "17  1979     1\n",
       "18  1982     1\n",
       "19  1983     1\n",
       "20  1986     1\n",
       "21  1988     1\n",
       "22  1991     2\n",
       "23  1992     1\n",
       "24  1993     1\n",
       "25  1995     1\n",
       "26  1996     1\n",
       "27  1997     1\n",
       "28  2003     1\n",
       "29  2004     3\n",
       "30  2007     1\n",
       "31  2008     1\n",
       "32  2009     5\n",
       "33  2011     3\n",
       "34  2013     1\n",
       "35  2014     2\n",
       "36  2015     2\n",
       "37  2018     4\n",
       "38  2019     1"
      ]
     },
     "execution_count": 78,
     "metadata": {},
     "output_type": "execute_result"
    }
   ],
   "source": [
    "group4 = df[df['Gender']=='Woman'].groupby(['Year']).aggregate({'Name':'count'}).reset_index()\n",
    "group4"
   ]
  },
  {
   "cell_type": "code",
   "execution_count": null,
   "id": "df68ca81-56ec-4fb6-b2ad-3964a36d8259",
   "metadata": {},
   "outputs": [],
   "source": []
  },
  {
   "cell_type": "code",
   "execution_count": null,
   "id": "7d07c61a-6d3e-4d7f-822f-e64a6ea9b74d",
   "metadata": {},
   "outputs": [],
   "source": []
  }
 ],
 "metadata": {
  "kernelspec": {
   "display_name": "Python 3 (ipykernel)",
   "language": "python",
   "name": "python3"
  },
  "language_info": {
   "codemirror_mode": {
    "name": "ipython",
    "version": 3
   },
   "file_extension": ".py",
   "mimetype": "text/x-python",
   "name": "python",
   "nbconvert_exporter": "python",
   "pygments_lexer": "ipython3",
   "version": "3.10.12"
  }
 },
 "nbformat": 4,
 "nbformat_minor": 5
}
